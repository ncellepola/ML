{
  "cells": [
    {
      "cell_type": "markdown",
      "metadata": {
        "id": "view-in-github",
        "colab_type": "text"
      },
      "source": [
        "<a href=\"https://colab.research.google.com/github/ncellepola/ML/blob/master/data_processing_multimodal.ipynb\" target=\"_parent\"><img src=\"https://colab.research.google.com/assets/colab-badge.svg\" alt=\"Open In Colab\"/></a>"
      ]
    },
    {
      "cell_type": "code",
      "execution_count": null,
      "id": "98f9ee74-395f-4aa4-9695-c00ade01195a",
      "metadata": {
        "id": "98f9ee74-395f-4aa4-9695-c00ade01195a"
      },
      "outputs": [],
      "source": [
        "!pip install langchain langchain-openai langchain-community langchain-experimental\n",
        "!pip install langchain-openai\n",
        "!pip install langchain-chroma\n",
        "!pip install langchain-community\n",
        "!pip install langchain-experimental"
      ]
    },
    {
      "cell_type": "code",
      "execution_count": null,
      "id": "140580ef-5db0-43cc-a524-9c39e04d4df0",
      "metadata": {
        "id": "140580ef-5db0-43cc-a524-9c39e04d4df0"
      },
      "outputs": [],
      "source": [
        "! pip install \"unstructured[all-docs]\""
      ]
    },
    {
      "cell_type": "code",
      "source": [
        "# install OCR dependencies for unstructured\n",
        "!sudo apt-get install tesseract-ocr\n",
        "!sudo apt-get install poppler-utils"
      ],
      "metadata": {
        "id": "DxgMsxJb0egj"
      },
      "id": "DxgMsxJb0egj",
      "execution_count": null,
      "outputs": []
    },
    {
      "cell_type": "code",
      "source": [
        "!pip install htmltabletomd"
      ],
      "metadata": {
        "id": "sjJKp687BkIU"
      },
      "id": "sjJKp687BkIU",
      "execution_count": null,
      "outputs": []
    },
    {
      "cell_type": "markdown",
      "id": "74b56bde-1ba0-4525-a11d-cab02c5659e4",
      "metadata": {
        "id": "74b56bde-1ba0-4525-a11d-cab02c5659e4"
      },
      "source": [
        "## Data Loading\n",
        "\n",
        "### Partition PDF tables, text, and images\n",
        "  "
      ]
    },
    {
      "cell_type": "code",
      "source": [
        "!rm -rf ./figures"
      ],
      "metadata": {
        "id": "TMgsFQuB7Iby"
      },
      "id": "TMgsFQuB7Iby",
      "execution_count": null,
      "outputs": []
    },
    {
      "cell_type": "code",
      "source": [
        "from langchain_community.document_loaders import UnstructuredPDFLoader\n",
        "\n",
        "doc = './test.pdf'\n",
        "\n",
        "# takes 1 min on Colab\n",
        "loader = UnstructuredPDFLoader(file_path=doc,\n",
        "                               strategy='hi_res',\n",
        "                               extract_images_in_pdf=True,\n",
        "                               infer_table_structure=True,\n",
        "                               chunking_strategy=\"by_title\", # section-based chunking\n",
        "                               max_characters=4000, # max size of chunks\n",
        "                               new_after_n_chars=4000, # preferred size of chunks\n",
        "                               combine_text_under_n_chars=2000, # smaller chunks < 2000 chars will be combined into a larger chunk\n",
        "                               mode='elements',\n",
        "                               image_output_dir_path='./figures')\n",
        "data = loader.load()"
      ],
      "metadata": {
        "id": "CMdrpENK3QYH",
        "colab": {
          "base_uri": "https://localhost:8080/",
          "height": 215,
          "referenced_widgets": [
            "b4a4871570304fa396468e2d91943520",
            "4ec997b84a324d18b199a924398b61db",
            "598c5ba29e6a4031a25a3355f3a1bc0c",
            "829e33e04a0e407f8bdf756261b98a25",
            "27b9d6cef7104b2785c709331cafa491",
            "8b83fb0a3bf04acf82d5e39b2e8ad853",
            "b658b30d2744431f9aa433c8ca9fd1c0",
            "a5e3c34313904fc8ba153ab35ba48195",
            "33df6a597acd41af8e93e29998917e2a",
            "bfec1b61471b4b719625fc953480bc94",
            "7f9c4fb719064ee290c0c0e2fa52754c",
            "afe0853c4c404dbdb64118bd0114c455",
            "0ff085d85e094fbcaff6f5a2eb0c40fc",
            "bbef12f7375849ad85ef6620c2cc7567",
            "e274c1fddf954e3db505a79598b63fa0",
            "3d15e23d393d4006b4208dbf06b3ea35",
            "6cb0f4b7126a4a35b5e7b05e4125c2f1",
            "b1313be7af90474c9a5b128be6791246",
            "613c3ee2cf9b453c93ae662c16d416b5",
            "c06fb9ce44334f97a4f6a8fd28b2ec3b",
            "8ca9c4e654a4455dba0d3cb8011e27fe",
            "2328f6003c3149b695a4bb0ff235dac7",
            "ad5472f0e74c4e4398383fa0d29e19e8",
            "350d4f577f3f45b5b941e9e95eacd5dc",
            "ea0b3933dc19407cb9168500ba46a38f",
            "ff0c2dbfd8f04020b1197de7a8ee6ceb",
            "8de04b53c01d40ac87e5cd993d31cb44",
            "ffe9d81a873d447c871830f2bde0a0b3",
            "520edad7f92647eab9b24797920e29da",
            "b08caea761434e26a18e10d2a56c0095",
            "0eeae02c99684235b46e4381a7dea287",
            "c0d04f8bd9d24d9794fe42b51ca0becf",
            "acb7aa0b72dd4a0d951a254a99d3b843",
            "7a304d90b23c4d3b8921adcc034b09b7",
            "437052a5d98b415cb7c38c677f88ee7c",
            "8d76c911a97f422295d9a409364fb6b3",
            "eef2f7c71df04ce3a8850a038a08f6a2",
            "2147063122694ae099c29af9d5c1c547",
            "826ac2dfe8c04da7aa7952a44ae54e00",
            "2564d637b66c4ca4b7eeae69a01c56ee",
            "8e790d8f259146ff9a18cc431de1431f",
            "292ccc16ac5e4cfcad6219a471874329",
            "612362d81dd14cd28490de5322e95763",
            "cba1fdb750fb4f4ab9c2178aa12d0bda",
            "2534cfb6a09447859681704b58a10a13",
            "0b4472b5d86b418cbc1498c3b89c8556",
            "07896c3c56a247d5923a1a79ceb0f4e9",
            "6c46cd2fe6fe43f881552ccdc26c2732",
            "b315e4d681de4d5a84f67f70281fc892",
            "8fcc46ca1e154e5a8181b0353cf4ba5f",
            "211eab8d6f0446a0a0f32e49787802fe",
            "ccef72b463d64a8f9f30b822d9e1131c",
            "b6cda2a16c77436cb161c5791b6b17bd",
            "7dcb3807447a4186984402d3a3c2e807",
            "5e5d0ae18ed440e091743a326117a408"
          ]
        },
        "outputId": "9fe821d2-bec9-4266-a582-c6ab649488a1"
      },
      "id": "CMdrpENK3QYH",
      "execution_count": 5,
      "outputs": [
        {
          "output_type": "display_data",
          "data": {
            "text/plain": [
              "yolox_l0.05.onnx:   0%|          | 0.00/217M [00:00<?, ?B/s]"
            ],
            "application/vnd.jupyter.widget-view+json": {
              "version_major": 2,
              "version_minor": 0,
              "model_id": "b4a4871570304fa396468e2d91943520"
            }
          },
          "metadata": {}
        },
        {
          "output_type": "stream",
          "name": "stderr",
          "text": [
            "The cache for model files in Transformers v4.22.0 has been updated. Migrating your old cache. This is a one-time only operation. You can interrupt this and resume the migration later on by calling `transformers.utils.move_cache()`.\n"
          ]
        },
        {
          "output_type": "display_data",
          "data": {
            "text/plain": [
              "0it [00:00, ?it/s]"
            ],
            "application/vnd.jupyter.widget-view+json": {
              "version_major": 2,
              "version_minor": 0,
              "model_id": "afe0853c4c404dbdb64118bd0114c455"
            }
          },
          "metadata": {}
        },
        {
          "output_type": "display_data",
          "data": {
            "text/plain": [
              "config.json:   0%|          | 0.00/1.47k [00:00<?, ?B/s]"
            ],
            "application/vnd.jupyter.widget-view+json": {
              "version_major": 2,
              "version_minor": 0,
              "model_id": "ad5472f0e74c4e4398383fa0d29e19e8"
            }
          },
          "metadata": {}
        },
        {
          "output_type": "display_data",
          "data": {
            "text/plain": [
              "model.safetensors:   0%|          | 0.00/115M [00:00<?, ?B/s]"
            ],
            "application/vnd.jupyter.widget-view+json": {
              "version_major": 2,
              "version_minor": 0,
              "model_id": "7a304d90b23c4d3b8921adcc034b09b7"
            }
          },
          "metadata": {}
        },
        {
          "output_type": "display_data",
          "data": {
            "text/plain": [
              "model.safetensors:   0%|          | 0.00/46.8M [00:00<?, ?B/s]"
            ],
            "application/vnd.jupyter.widget-view+json": {
              "version_major": 2,
              "version_minor": 0,
              "model_id": "2534cfb6a09447859681704b58a10a13"
            }
          },
          "metadata": {}
        }
      ]
    },
    {
      "cell_type": "code",
      "source": [
        "len(data)"
      ],
      "metadata": {
        "colab": {
          "base_uri": "https://localhost:8080/"
        },
        "id": "A3atyj9a52a9",
        "outputId": "adc98ac3-d9c2-4698-e51a-db98d5d3b8b6"
      },
      "id": "A3atyj9a52a9",
      "execution_count": 6,
      "outputs": [
        {
          "output_type": "execute_result",
          "data": {
            "text/plain": [
              "20"
            ]
          },
          "metadata": {},
          "execution_count": 6
        }
      ]
    },
    {
      "cell_type": "code",
      "source": [
        "[doc.metadata['category'] for doc in data]"
      ],
      "metadata": {
        "colab": {
          "base_uri": "https://localhost:8080/"
        },
        "id": "hPdjolbv59I4",
        "outputId": "9b881531-dc66-4244-ff65-a1a3b158e839"
      },
      "id": "hPdjolbv59I4",
      "execution_count": 7,
      "outputs": [
        {
          "output_type": "execute_result",
          "data": {
            "text/plain": [
              "['CompositeElement',\n",
              " 'Table',\n",
              " 'CompositeElement',\n",
              " 'Table',\n",
              " 'CompositeElement',\n",
              " 'Table',\n",
              " 'CompositeElement',\n",
              " 'CompositeElement',\n",
              " 'Table',\n",
              " 'CompositeElement',\n",
              " 'Table',\n",
              " 'CompositeElement',\n",
              " 'Table',\n",
              " 'CompositeElement',\n",
              " 'Table',\n",
              " 'CompositeElement',\n",
              " 'CompositeElement',\n",
              " 'CompositeElement',\n",
              " 'CompositeElement',\n",
              " 'CompositeElement']"
            ]
          },
          "metadata": {},
          "execution_count": 7
        }
      ]
    },
    {
      "cell_type": "code",
      "source": [
        "data[0]"
      ],
      "metadata": {
        "colab": {
          "base_uri": "https://localhost:8080/"
        },
        "id": "LKgzu9w9977d",
        "outputId": "5fa6f2ab-ece8-4031-e07f-cc920197b2f2"
      },
      "id": "LKgzu9w9977d",
      "execution_count": 8,
      "outputs": [
        {
          "output_type": "execute_result",
          "data": {
            "text/plain": [
              "Document(metadata={'source': './test.pdf', 'filetype': 'application/pdf', 'languages': ['eng'], 'last_modified': '2024-11-22T00:41:25', 'page_number': 1, 'orig_elements': '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', 'file_directory': '.', 'filename': 'test.pdf', 'category': 'CompositeElement', 'element_id': '3fffedc5e7410dff55fd2825fe77ac4d'}, page_content='Fe BS ™\\n\\nCSUEB Carlos Bee Library\\n\\nSUBMITTAL\\n\\nCONTROL AIR\\n\\nCAE Job #: Contractor: Subcontractor: Architect:\\n\\nCAE Job #:\\n\\nSubcontractor:\\n\\nSpecification Section:\\n\\nEngineer:\\n\\n201-20-0001 Rudolph and Sletten\\n\\n233300\\n\\nCarrier Johnson + Culture Integral Group\\n\\nFire and Smoke Dampers\\n\\nProduct data Shop drawings Note: Smoke detectors to be provided by Division 26\\n\\n233300-02-00\\n\\nDate:\\n\\n5/20/2020\\n\\nith NORMAN S. WRIGHT eo | 1906 | Mechanical Equipment Corporation / 99A South Hill Drive, Brisbane, CA 9400 32 @ tel 415.467.7600 © fax 415.467.0900 norman-wright.com\\n\\nSUBMITTAL\\n\\nMay 20, 2020')"
            ]
          },
          "metadata": {},
          "execution_count": 8
        }
      ]
    },
    {
      "cell_type": "code",
      "source": [
        "data[3]"
      ],
      "metadata": {
        "colab": {
          "base_uri": "https://localhost:8080/"
        },
        "id": "P0f5-u4q-CnW",
        "outputId": "2f2945d2-1fa5-4c1d-c704-8e745716fe23"
      },
      "id": "P0f5-u4q-CnW",
      "execution_count": 17,
      "outputs": [
        {
          "output_type": "execute_result",
          "data": {
            "text/plain": [
              "Document(metadata={'source': './test.pdf', 'last_modified': '2024-11-22T00:41:25', 'text_as_html': '<table><tr><td>[Description</td><td>[——FSDEO</td><td>FSD60LP</td></tr><tr><td/><td>5\" x 16 gauge (127 x 1.6) galvanized, single piece, hat-shaped channel, struc- turally superior to 13 (2.4) gauge channel frame.</td><td>Integral sleeve and frame 20 (1.0) gauge galvanized single piece.</td></tr><tr><td>Blades</td><td>One-piece airfoil, nominal 6\" (152) wide and 14 (2.0) gauge galvanized steel equivalent strength. Blades are approximately 6\" (152) on center.</td><td>Low profile aerodynamic shaped, double skin of 16 (1.6) and 20 (1.0) gauge galvanized steel.</td></tr><tr><td>Bearings</td><td>Stainless steel sleeve type, pressed into frame.</td><td>Stainless steel sleeve type, pressed into frame.</td></tr><tr><td>Jamb Seal</td><td>Stainless steel, flexible metal compression type.</td><td>Stainless steel, flexible metal compression type.</td></tr><tr><td>Blade Seal</td><td>Silicone edge type for smoke seal to 450°F (232°C) and galvanized steel for flame seal to 1900°F (1038°C) mechanically fastened to the blade edge.</td><td>Stainless steel, flexible metal compression type.</td></tr><tr><td>Linkage</td><td>Concealed in frame.</td><td>Not Required</td></tr></table>', 'filetype': 'application/pdf', 'languages': ['eng'], 'page_number': 3, 'orig_elements': 'eJzVVttu2zgQ/ZWBnhLAlkX5HgQF2qQBusimQdx9cgKDkkYSEYpUJSq1t+i/75CS7WwS97IIFuiLJA55Zs4MZw60/OqhxAKVWYnEOwGPp8OAz6JhfzxPw/4oilh/Pp1gP4mGOJuMOQaz2OuBV6DhCTecMF+9WOsqEYobrN1a8o1uzCpHkeWGLGEYBITpzF9EYnKysqmzllooY3HLJRsxf9iD6XTqz+96sF2zkX1bw4zNfPaCoUWQwas3tcHCZnIt1igXJY/R+0YbCRqMjdBqFUte16uy0hEdC/z5kA0piJcKiWZTosNe/+k5wipreOayWnqoMu/OWWuzKnQiUoGuZmEQjvqM9cPwUxCcjNhJOLbokpAr1RQRVnTKhjC4Niter3JTSAs8NTyS+ObU5MgTelX2883yHOu4EqUlezoggzPeNmHARu3zYnH+/uNui1aT4PK6XQ+sk8HWYaSTTec3sebEfYxvPVgDm0DGmwzhiIVTu/Ynx2SRD1yJvzHpQS1UJhFKgTH2IOemX+e8xATinCuFkk6Yqon7YJqKS7mBuimxEroCo4EN4Sj0R8ddjA4CacUL9HdMPiiDGYGhlogPCFwl7REIA+LlB1v8nte/aHWeXNJdlu8kT7DeRfiosO+OAhdVqgWxVrqgXpUwoTIcsXF4DNSRbWw2sqxfjGqQ6OPnRjxwSeNic6eGMLkPbUTgFfkoqa3WoqBJoHrsA2gFMYGw2qd+qb8AHbZdBxwruijFCxFDW+MeJLqh3oD6XijQqb2tI3dDluZ3imNpvlQV5BXVbV+XheFCSazrLrPuAuwA9IgXbZA3Gkz99Mr+G/Axlz94EcECuTzkswepxLWw6VuZkRDrwnmmgXCBDrL5WeSzhnnCR0gRa4WASdamBim1dV3oe7oROmk7fDQObpsgiIIL6plh2H6ftRf0rHEsPJW2sbdwNg/2eBYMZzsHBdppEbGbqZTEBhX5IQhNNUSOreX1qkW4FOqe5Grn8kyrmIi6q3zaAVfawI2dhAqTR54GndoMWlFzomsFzwrdI0WDhXl7df725hzO9NXC3Px1Zj7oK3AiBt9Rpk7l4LBkXLjn/6NgP6tP8Lr68yqi0enVVhJeQdTgV0XhkHD9uqMf9f7h/Z0MwV4Bno8K/B5aAC8M7KHp/2HNniMej7z9tdn+J32yo+59u/sHbs1pAg==', 'file_directory': '.', 'filename': 'test.pdf', 'category': 'Table', 'element_id': '8bb234cae7edc5cda06af3911be0c8c9'}, page_content='Description StANDARD CoNStRUCtIoN FSD60 5\" x 16 gauge (127 x 1.6) FSD60LP Integral sleeve and frame Frame galvanized, single piece, hat-shaped channel, struc- turally superior to 13 (2.4) gauge channel frame. 20 (1.0) gauge galvanized single piece. One-piece airfoil, nominal 6\" (152) wide and 14 (2.0) gauge galvanized steel Low profile aerodynamic shaped, double skin of 16 (1.6) and 20 (1.0) Blades Bearings equivalent strength. Blades are approximately 6\" (152) on center. Stainless steel sleeve type, pressed into frame. gauge galvanized steel. Stainless steel sleeve type, pressed into frame. Stainless steel, flexible metal Stainless steel, flexible Jamb Seal Blade Seal compression type. Silicone edge type for smoke seal to 450°F (232°C) and galvanized steel for flame seal to 1900°F (1038°C) mechanically fastened to the blade edge. Concealed in frame. metal compression type. Stainless steel, flexible metal compression type. Not Required')"
            ]
          },
          "metadata": {},
          "execution_count": 17
        }
      ]
    },
    {
      "cell_type": "code",
      "source": [
        "from IPython.display import HTML, display, Markdown\n"
      ],
      "metadata": {
        "id": "pIFTyiMjCS0O"
      },
      "id": "pIFTyiMjCS0O",
      "execution_count": 10,
      "outputs": []
    },
    {
      "cell_type": "code",
      "source": [
        "print(data[3].page_content)"
      ],
      "metadata": {
        "colab": {
          "base_uri": "https://localhost:8080/"
        },
        "id": "LHyuq874-E57",
        "outputId": "757ffd18-762f-4dc8-dbe2-8f9cc2185837"
      },
      "id": "LHyuq874-E57",
      "execution_count": 18,
      "outputs": [
        {
          "output_type": "stream",
          "name": "stdout",
          "text": [
            "Description StANDARD CoNStRUCtIoN FSD60 5\" x 16 gauge (127 x 1.6) FSD60LP Integral sleeve and frame Frame galvanized, single piece, hat-shaped channel, struc- turally superior to 13 (2.4) gauge channel frame. 20 (1.0) gauge galvanized single piece. One-piece airfoil, nominal 6\" (152) wide and 14 (2.0) gauge galvanized steel Low profile aerodynamic shaped, double skin of 16 (1.6) and 20 (1.0) Blades Bearings equivalent strength. Blades are approximately 6\" (152) on center. Stainless steel sleeve type, pressed into frame. gauge galvanized steel. Stainless steel sleeve type, pressed into frame. Stainless steel, flexible metal Stainless steel, flexible Jamb Seal Blade Seal compression type. Silicone edge type for smoke seal to 450°F (232°C) and galvanized steel for flame seal to 1900°F (1038°C) mechanically fastened to the blade edge. Concealed in frame. metal compression type. Stainless steel, flexible metal compression type. Not Required\n"
          ]
        }
      ]
    },
    {
      "cell_type": "code",
      "source": [
        "data[3].metadata['text_as_html']"
      ],
      "metadata": {
        "colab": {
          "base_uri": "https://localhost:8080/",
          "height": 232
        },
        "id": "jbXsOQonCs8V",
        "outputId": "30e4e7a6-3744-4945-9c16-d13b28a5865e"
      },
      "id": "jbXsOQonCs8V",
      "execution_count": 19,
      "outputs": [
        {
          "output_type": "execute_result",
          "data": {
            "text/plain": [
              "'<table><tr><td>[Description</td><td>[——FSDEO</td><td>FSD60LP</td></tr><tr><td/><td>5\" x 16 gauge (127 x 1.6) galvanized, single piece, hat-shaped channel, struc- turally superior to 13 (2.4) gauge channel frame.</td><td>Integral sleeve and frame 20 (1.0) gauge galvanized single piece.</td></tr><tr><td>Blades</td><td>One-piece airfoil, nominal 6\" (152) wide and 14 (2.0) gauge galvanized steel equivalent strength. Blades are approximately 6\" (152) on center.</td><td>Low profile aerodynamic shaped, double skin of 16 (1.6) and 20 (1.0) gauge galvanized steel.</td></tr><tr><td>Bearings</td><td>Stainless steel sleeve type, pressed into frame.</td><td>Stainless steel sleeve type, pressed into frame.</td></tr><tr><td>Jamb Seal</td><td>Stainless steel, flexible metal compression type.</td><td>Stainless steel, flexible metal compression type.</td></tr><tr><td>Blade Seal</td><td>Silicone edge type for smoke seal to 450°F (232°C) and galvanized steel for flame seal to 1900°F (1038°C) mechanically fastened to the blade edge.</td><td>Stainless steel, flexible metal compression type.</td></tr><tr><td>Linkage</td><td>Concealed in frame.</td><td>Not Required</td></tr></table>'"
            ],
            "application/vnd.google.colaboratory.intrinsic+json": {
              "type": "string"
            }
          },
          "metadata": {},
          "execution_count": 19
        }
      ]
    },
    {
      "cell_type": "code",
      "source": [
        "display(Markdown(data[3].metadata['text_as_html']))"
      ],
      "metadata": {
        "colab": {
          "base_uri": "https://localhost:8080/",
          "height": 375
        },
        "id": "jBoL8v3jCNmy",
        "outputId": "718ac0e3-9865-4741-8bd6-a6aad1cc09ce"
      },
      "id": "jBoL8v3jCNmy",
      "execution_count": 20,
      "outputs": [
        {
          "output_type": "display_data",
          "data": {
            "text/plain": [
              "<IPython.core.display.Markdown object>"
            ],
            "text/markdown": "<table><tr><td>[Description</td><td>[——FSDEO</td><td>FSD60LP</td></tr><tr><td/><td>5\" x 16 gauge (127 x 1.6) galvanized, single piece, hat-shaped channel, struc- turally superior to 13 (2.4) gauge channel frame.</td><td>Integral sleeve and frame 20 (1.0) gauge galvanized single piece.</td></tr><tr><td>Blades</td><td>One-piece airfoil, nominal 6\" (152) wide and 14 (2.0) gauge galvanized steel equivalent strength. Blades are approximately 6\" (152) on center.</td><td>Low profile aerodynamic shaped, double skin of 16 (1.6) and 20 (1.0) gauge galvanized steel.</td></tr><tr><td>Bearings</td><td>Stainless steel sleeve type, pressed into frame.</td><td>Stainless steel sleeve type, pressed into frame.</td></tr><tr><td>Jamb Seal</td><td>Stainless steel, flexible metal compression type.</td><td>Stainless steel, flexible metal compression type.</td></tr><tr><td>Blade Seal</td><td>Silicone edge type for smoke seal to 450°F (232°C) and galvanized steel for flame seal to 1900°F (1038°C) mechanically fastened to the blade edge.</td><td>Stainless steel, flexible metal compression type.</td></tr><tr><td>Linkage</td><td>Concealed in frame.</td><td>Not Required</td></tr></table>"
          },
          "metadata": {}
        }
      ]
    },
    {
      "cell_type": "markdown",
      "source": [
        "Since unstructured extracts the text from the table without any borders, we can use the HTML text and put it directly in prompts (LLMs understand HTML tables well) or even better convert HTML tables to Markdown tables as below"
      ],
      "metadata": {
        "id": "kd1-pbFhlu9h"
      },
      "id": "kd1-pbFhlu9h"
    },
    {
      "cell_type": "code",
      "source": [
        "import htmltabletomd\n",
        "\n",
        "md_table = htmltabletomd.convert_table(data[3].metadata['text_as_html'])\n",
        "print(md_table)"
      ],
      "metadata": {
        "colab": {
          "base_uri": "https://localhost:8080/"
        },
        "id": "j9aYW2W9BwFS",
        "outputId": "8e507d99-6249-4740-a4a1-5a7a5a8e4eb3"
      },
      "id": "j9aYW2W9BwFS",
      "execution_count": 21,
      "outputs": [
        {
          "output_type": "stream",
          "name": "stdout",
          "text": [
            "| | | |\n",
            "| :--- | :--- | :--- |\n",
            "| [Description | [——FSDEO | FSD60LP |\n",
            "|  | 5\" x 16 gauge (127 x 1.6) galvanized, single piece, hat-shaped channel, struc- turally superior to 13 (2.4) gauge channel frame. | Integral sleeve and frame 20 (1.0) gauge galvanized single piece. |\n",
            "| Blades | One-piece airfoil, nominal 6\" (152) wide and 14 (2.0) gauge galvanized steel equivalent strength. Blades are approximately 6\" (152) on center. | Low profile aerodynamic shaped, double skin of 16 (1.6) and 20 (1.0) gauge galvanized steel. |\n",
            "| Bearings | Stainless steel sleeve type, pressed into frame. | Stainless steel sleeve type, pressed into frame. |\n",
            "| Jamb Seal | Stainless steel, flexible metal compression type. | Stainless steel, flexible metal compression type. |\n",
            "| Blade Seal | Silicone edge type for smoke seal to 450°F (232°C) and galvanized steel for flame seal to 1900°F (1038°C) mechanically fastened to the blade edge. | Stainless steel, flexible metal compression type. |\n",
            "| Linkage | Concealed in frame. | Not Required |\n",
            "\n"
          ]
        }
      ]
    },
    {
      "cell_type": "code",
      "source": [
        "md_table"
      ],
      "metadata": {
        "colab": {
          "base_uri": "https://localhost:8080/",
          "height": 214
        },
        "id": "MxiBcMCvC8Dm",
        "outputId": "b54e5549-e7f8-40fe-efff-e96fbcd0e1ac"
      },
      "id": "MxiBcMCvC8Dm",
      "execution_count": 22,
      "outputs": [
        {
          "output_type": "execute_result",
          "data": {
            "text/plain": [
              "'| | | |\\n| :--- | :--- | :--- |\\n| [Description | [——FSDEO | FSD60LP |\\n|  | 5\" x 16 gauge (127 x 1.6) galvanized, single piece, hat-shaped channel, struc- turally superior to 13 (2.4) gauge channel frame. | Integral sleeve and frame 20 (1.0) gauge galvanized single piece. |\\n| Blades | One-piece airfoil, nominal 6\" (152) wide and 14 (2.0) gauge galvanized steel equivalent strength. Blades are approximately 6\" (152) on center. | Low profile aerodynamic shaped, double skin of 16 (1.6) and 20 (1.0) gauge galvanized steel. |\\n| Bearings | Stainless steel sleeve type, pressed into frame. | Stainless steel sleeve type, pressed into frame. |\\n| Jamb Seal | Stainless steel, flexible metal compression type. | Stainless steel, flexible metal compression type. |\\n| Blade Seal | Silicone edge type for smoke seal to 450°F (232°C) and galvanized steel for flame seal to 1900°F (1038°C) mechanically fastened to the blade edge. | Stainless steel, flexible metal compression type. |\\n| Linkage | Concealed in frame. | Not Required |\\n'"
            ],
            "application/vnd.google.colaboratory.intrinsic+json": {
              "type": "string"
            }
          },
          "metadata": {},
          "execution_count": 22
        }
      ]
    },
    {
      "cell_type": "code",
      "source": [
        "docs = []\n",
        "tables = []\n",
        "\n",
        "for doc in data:\n",
        "    if doc.metadata['category'] == 'Table':\n",
        "        tables.append(doc)\n",
        "    elif doc.metadata['category'] == 'CompositeElement':\n",
        "        docs.append(doc)\n",
        "\n",
        "len(docs), len(tables)"
      ],
      "metadata": {
        "colab": {
          "base_uri": "https://localhost:8080/"
        },
        "id": "xT1OmlnHAu_P",
        "outputId": "25f0deda-1b89-4f2d-ae60-81f8ed43b571"
      },
      "id": "xT1OmlnHAu_P",
      "execution_count": 23,
      "outputs": [
        {
          "output_type": "execute_result",
          "data": {
            "text/plain": [
              "(13, 7)"
            ]
          },
          "metadata": {},
          "execution_count": 23
        }
      ]
    },
    {
      "cell_type": "code",
      "source": [
        "for table in tables:\n",
        "    table.page_content = htmltabletomd.convert_table(table.metadata['text_as_html'])"
      ],
      "metadata": {
        "id": "t3pVs67ZBehr"
      },
      "id": "t3pVs67ZBehr",
      "execution_count": 24,
      "outputs": []
    },
    {
      "cell_type": "code",
      "source": [
        "for table in tables:\n",
        "    print(table.page_content)\n",
        "    print()"
      ],
      "metadata": {
        "colab": {
          "base_uri": "https://localhost:8080/"
        },
        "id": "-Qkds4ldDL5_",
        "outputId": "e47cd388-420a-4fbf-8408-68c6d6c4242b"
      },
      "id": "-Qkds4ldDL5_",
      "execution_count": 25,
      "outputs": [
        {
          "output_type": "stream",
          "name": "stdout",
          "text": [
            "| | |\n",
            "| :--- | :--- |\n",
            "| LOCATION: | Hayward, CA |\n",
            "| ARCHITECT: |\n",
            "| MECH ENGR: | Integral Group |\n",
            "| MECH CONT: | Control Air Enterprises |\n",
            "| PREPARED BY: | Leao |\n",
            "\n",
            "\n",
            "| | | |\n",
            "| :--- | :--- | :--- |\n",
            "| [Description | [——FSDEO | FSD60LP |\n",
            "|  | 5\" x 16 gauge (127 x 1.6) galvanized, single piece, hat-shaped channel, struc- turally superior to 13 (2.4) gauge channel frame. | Integral sleeve and frame 20 (1.0) gauge galvanized single piece. |\n",
            "| Blades | One-piece airfoil, nominal 6\" (152) wide and 14 (2.0) gauge galvanized steel equivalent strength. Blades are approximately 6\" (152) on center. | Low profile aerodynamic shaped, double skin of 16 (1.6) and 20 (1.0) gauge galvanized steel. |\n",
            "| Bearings | Stainless steel sleeve type, pressed into frame. | Stainless steel sleeve type, pressed into frame. |\n",
            "| Jamb Seal | Stainless steel, flexible metal compression type. | Stainless steel, flexible metal compression type. |\n",
            "| Blade Seal | Silicone edge type for smoke seal to 450°F (232°C) and galvanized steel for flame seal to 1900°F (1038°C) mechanically fastened to the blade edge. | Stainless steel, flexible metal compression type. |\n",
            "| Linkage | Concealed in frame. | Not Required |\n",
            "\n",
            "\n",
            "| | | |\n",
            "| :--- | :--- | :--- |\n",
            "| Description | FSD60 | FSD60LP |\n",
            "| UL555S Leakage Rating | Class &#124; | Class &#124; |\n",
            "| UL555 Hourly Rating | 11/2 Hour | 11/2 Hour |\n",
            "| . ‘ Maximum Velocity | 4000 FPM (20.3 m/s) | 2000 FPM (10.2 m/s) |\n",
            "| Maximum Pressure | ues} | (hey |\n",
            "| Temperature | 350°F (177°C) | 350°F (177°C) |\n",
            "\n",
            "\n",
            "| | | | | |\n",
            "| :--- | :--- | :--- | :--- | :--- |\n",
            "| MODEL FSD60 FSD60 FSD60LP | SIZE 120\" x 96\" 144\" x 96\" 36\" x 14\" | STATIC PRESSURE 4\" w.g. 4\" w.g. 4\" w.g. 3,000 FPM | TEMPERATURE 350° 350° 350° | INSTALLATION Vertical Horizontal |\n",
            "| Vertical | or Horizontal |\n",
            "|  |\n",
            "| FSD60 | 64\" x 72\" 120\" x 36\" 32\" x 96\" | 4\" w.g. | 250° |  | Vertical |\n",
            "| FSD60 | 60\" x 72\" 120\" x 36\" 30\" x 96\" | 4\" w.g. | 250° |  | Horizontal |\n",
            "| FSD60 | 64\" x 64\" 120\" x 32\" 32\" x 96\" | 4\" w.g. | 350° |  | Vertical |\n",
            "| FSD60 | 60\" x 64\" 120\" x 32\" 30\" x 96\" | 4\" w.g. | 350° |  | Horizontal |\n",
            "| FSD60 | 120\" x 96\" | 6\" w.g. | 250° |  | Vertical |\n",
            "| FSD60 | 144\" x 96\" | 6\" w.g. | 250° |  | Horizontal |\n",
            "| 4,000 FPM |\n",
            "| FSD60 | 48\" x 48\" 96\" x 24\" 24\" x 96\" | 8\" w.g. | 250° |  | Vertical or Horizontal |\n",
            "\n",
            "\n",
            "| |\n",
            "| :--- |\n",
            "| 71/8\" (181) ‘L’ Dim. for Sleeves Shorter than 20\" (508) Long |\n",
            "| Without Ps Accessories | With Accessories (TS150, SP100 or DTS) |\n",
            "| Brectric or | Electric | Pneumatic Actuators |\n",
            "| Actuators | etre | 331-4827 | 331-2961 | 331-3060 |\n",
            "| Over 10\" (250) ‘B’ Dim. | &#124; Over 21\" (533) &#124; ‘B Dim. | Over 28\" (711) &#124; ‘B’ Dim. | Over 32\" (813) ‘'B’ Dim. | [Over 40\" (1016 ‘'B’ Dim. |\n",
            "\n",
            "\n",
            "| | | |\n",
            "| :--- | :--- | :--- |\n",
            "| ACTUATORS | s | T |\n",
            "| FSLF, FSTF | 4\" (102) | 0\" (0) |\n",
            "| FSNF, FSAF, MS4120 | 5\" (127) | 5\" (127) |\n",
            "| 331-4827 | 5\" (127) | 6\" (152) |\n",
            "| 331-2961 | 8\" (203) | 8\" (203) |\n",
            "| 331-3060 | 9\" (229) | 11\" (279) |\n",
            "\n",
            "\n",
            "| | | |\n",
            "| :--- | :--- | :--- |\n",
            "| ACTUATORS | B Dim and Above | B Dim and Above |\n",
            "| B | x | B | x |\n",
            "| FSLF, FSTF | 40\" (154) | &#124; 10\"(154) &#124; | 18\" (457) &#124; | 71/2\" (191) |\n",
            "| FSNF, FSAF, MS4120 | 12\" (305) | &#124; 123/4\" (324) &#124; | 21\" (633) &#124; | 51/2\" (533) |\n",
            "| 331-4827 | 16\" (406) | &#124; 15\"(381) &#124; | 21\" (633) | &#124; 71/2\" (191) |\n",
            "| 331-2961 | 16\" (406) | &#124; 17° (432) &#124; | 24\" (610) | &#124; 71/2\" (191) |\n",
            "| 331-3060 | 20\" (508) | &#124; 19\" (483) &#124; | 26\" (660) | &#124; 9\" (229) |\n",
            "\n",
            "\n"
          ]
        }
      ]
    },
    {
      "cell_type": "code",
      "source": [
        "! ls -l ./figures"
      ],
      "metadata": {
        "colab": {
          "base_uri": "https://localhost:8080/"
        },
        "id": "dd7VcuM2DZPN",
        "outputId": "c97972bf-e806-4e7b-c7eb-6845524c6978"
      },
      "id": "dd7VcuM2DZPN",
      "execution_count": 26,
      "outputs": [
        {
          "output_type": "stream",
          "name": "stdout",
          "text": [
            "total 1120\n",
            "-rw-r--r-- 1 root root  11081 Nov 22 00:44 figure-11-27.jpg\n",
            "-rw-r--r-- 1 root root  78553 Nov 22 00:44 figure-11-28.jpg\n",
            "-rw-r--r-- 1 root root  56218 Nov 22 00:44 figure-11-29.jpg\n",
            "-rw-r--r-- 1 root root  66561 Nov 22 00:44 figure-11-30.jpg\n",
            "-rw-r--r-- 1 root root   8885 Nov 22 00:44 figure-11-31.jpg\n",
            "-rw-r--r-- 1 root root   5405 Nov 22 00:44 figure-1-1.jpg\n",
            "-rw-r--r-- 1 root root  11425 Nov 22 00:44 figure-12-32.jpg\n",
            "-rw-r--r-- 1 root root  30039 Nov 22 00:44 figure-12-33.jpg\n",
            "-rw-r--r-- 1 root root  37644 Nov 22 00:44 figure-12-34.jpg\n",
            "-rw-r--r-- 1 root root  42243 Nov 22 00:44 figure-12-35.jpg\n",
            "-rw-r--r-- 1 root root  29231 Nov 22 00:44 figure-2-2.jpg\n",
            "-rw-r--r-- 1 root root  11436 Nov 22 00:44 figure-3-3.jpg\n",
            "-rw-r--r-- 1 root root  16020 Nov 22 00:44 figure-3-4.jpg\n",
            "-rw-r--r-- 1 root root  34886 Nov 22 00:44 figure-3-5.jpg\n",
            "-rw-r--r-- 1 root root  14305 Nov 22 00:44 figure-3-6.jpg\n",
            "-rw-r--r-- 1 root root  17420 Nov 22 00:44 figure-4-7.jpg\n",
            "-rw-r--r-- 1 root root 191762 Nov 22 00:44 figure-4-8.jpg\n",
            "-rw-r--r-- 1 root root  25669 Nov 22 00:44 figure-5-9.jpg\n",
            "-rw-r--r-- 1 root root  23822 Nov 22 00:44 figure-6-10.jpg\n",
            "-rw-r--r-- 1 root root  17801 Nov 22 00:44 figure-6-11.jpg\n",
            "-rw-r--r-- 1 root root  23839 Nov 22 00:44 figure-6-12.jpg\n",
            "-rw-r--r-- 1 root root  16492 Nov 22 00:44 figure-7-13.jpg\n",
            "-rw-r--r-- 1 root root  19835 Nov 22 00:44 figure-7-14.jpg\n",
            "-rw-r--r-- 1 root root  24019 Nov 22 00:44 figure-7-15.jpg\n",
            "-rw-r--r-- 1 root root  23895 Nov 22 00:44 figure-7-16.jpg\n",
            "-rw-r--r-- 1 root root  18730 Nov 22 00:44 figure-7-17.jpg\n",
            "-rw-r--r-- 1 root root  20909 Nov 22 00:44 figure-7-18.jpg\n",
            "-rw-r--r-- 1 root root  15722 Nov 22 00:44 figure-7-19.jpg\n",
            "-rw-r--r-- 1 root root  19119 Nov 22 00:44 figure-7-20.jpg\n",
            "-rw-r--r-- 1 root root  11210 Nov 22 00:44 figure-9-21.jpg\n",
            "-rw-r--r-- 1 root root  38165 Nov 22 00:44 figure-9-22.jpg\n",
            "-rw-r--r-- 1 root root   8148 Nov 22 00:44 figure-9-23.jpg\n",
            "-rw-r--r-- 1 root root  24589 Nov 22 00:44 figure-9-24.jpg\n",
            "-rw-r--r-- 1 root root  34292 Nov 22 00:44 figure-9-25.jpg\n",
            "-rw-r--r-- 1 root root  46066 Nov 22 00:44 figure-9-26.jpg\n"
          ]
        }
      ]
    },
    {
      "cell_type": "code",
      "source": [
        "from IPython.display import Image\n",
        "\n",
        "Image('./figures/figure-9-22.jpg')"
      ],
      "metadata": {
        "colab": {
          "base_uri": "https://localhost:8080/",
          "height": 671
        },
        "id": "j0o-eADuDcKc",
        "outputId": "14c04300-c502-4aa2-c486-15d53407a619"
      },
      "id": "j0o-eADuDcKc",
      "execution_count": 28,
      "outputs": [
        {
          "output_type": "execute_result",
          "data": {
            "image/jpeg": "[encoded data removed]",
            "text/plain": [
              "<IPython.core.display.Image object>"
            ]
          },
          "metadata": {},
          "execution_count": 28
        }
      ]
    },
    {
      "cell_type": "code",
      "source": [
        "Image('./figures/figure-6-10.jpg')"
      ],
      "metadata": {
        "colab": {
          "base_uri": "https://localhost:8080/",
          "height": 518
        },
        "id": "PkgQnSJkDhR7",
        "outputId": "c138bbbe-0f67-43f7-ac52-e3656dc876c0"
      },
      "id": "PkgQnSJkDhR7",
      "execution_count": 29,
      "outputs": [
        {
          "output_type": "execute_result",
          "data": {
            "image/jpeg": "[encoded data removed]",
            "text/plain": [
              "<IPython.core.display.Image object>"
            ]
          },
          "metadata": {},
          "execution_count": 29
        }
      ]
    },
    {
      "cell_type": "markdown",
      "source": [
        "#### Enter Open AI API Key"
      ],
      "metadata": {
        "id": "H9c37cLnSrbg"
      },
      "id": "H9c37cLnSrbg"
    },
    {
      "cell_type": "code",
      "source": [
        "from getpass import getpass\n",
        "\n",
        "OPENAI_KEY = getpass('Enter Open AI API Key: ')"
      ],
      "metadata": {
        "id": "cv3JzCEx_PAd",
        "colab": {
          "base_uri": "https://localhost:8080/"
        },
        "outputId": "ff6e40da-75f6-4164-b02e-ef9d90601953"
      },
      "execution_count": 30,
      "outputs": [
        {
          "name": "stdout",
          "output_type": "stream",
          "text": [
            "Enter Open AI API Key: ··········\n"
          ]
        }
      ],
      "id": "cv3JzCEx_PAd"
    },
    {
      "cell_type": "code",
      "source": [
        "import os\n",
        "\n",
        "os.environ['OPENAI_API_KEY'] = OPENAI_KEY"
      ],
      "metadata": {
        "id": "zT8VTBilFwQB"
      },
      "execution_count": 31,
      "outputs": [],
      "id": "zT8VTBilFwQB"
    },
    {
      "cell_type": "markdown",
      "source": [
        "#### Load Connection to LLM\n",
        "\n",
        "Here we create a connection to ChatGPT to use later in our chains"
      ],
      "metadata": {
        "id": "2oeckxFBcc0E"
      },
      "id": "2oeckxFBcc0E"
    },
    {
      "cell_type": "code",
      "source": [
        "from langchain_openai import ChatOpenAI\n",
        "\n",
        "chatgpt = ChatOpenAI(model_name='gpt-4o', temperature=0)"
      ],
      "metadata": {
        "id": "vHa9LMOfcOCV"
      },
      "execution_count": 32,
      "outputs": [],
      "id": "vHa9LMOfcOCV"
    },
    {
      "cell_type": "markdown",
      "id": "0aa7f52f-bf5c-4ba4-af72-b2ccba59a4cf",
      "metadata": {
        "id": "0aa7f52f-bf5c-4ba4-af72-b2ccba59a4cf"
      },
      "source": [
        "## Multi-vector retriever\n",
        "\n",
        "Use [multi-vector-retriever](https://python.langchain.com/docs/modules/data_connection/retrievers/multi_vector#summary) to index image (and / or text, table) summaries, but retrieve raw images (along with raw texts or tables).\n",
        "\n",
        "### Text and Table summaries\n",
        "\n",
        "We will use GPT-4o to produce table and, text summaries.\n",
        "\n",
        "Text summaries are advised if using large chunk sizes (e.g., as set above, we use 4k token chunks).\n",
        "\n",
        "Summaries are used to retrieve raw tables and / or raw chunks of text."
      ]
    },
    {
      "cell_type": "code",
      "execution_count": 43,
      "id": "523e6ed2-2132-4748-bdb7-db765f20648d",
      "metadata": {
        "id": "523e6ed2-2132-4748-bdb7-db765f20648d",
        "colab": {
          "base_uri": "https://localhost:8080/"
        },
        "outputId": "baf3eb08-19e3-49b3-be2a-028a6a54e729"
      },
      "outputs": [
        {
          "output_type": "execute_result",
          "data": {
            "text/plain": [
              "(13, 7)"
            ]
          },
          "metadata": {},
          "execution_count": 43
        }
      ],
      "source": [
        "from langchain_core.output_parsers import StrOutputParser\n",
        "from langchain_core.prompts import ChatPromptTemplate\n",
        "from langchain_openai import ChatOpenAI\n",
        "from langchain_core.runnables import RunnablePassthrough\n",
        "\n",
        "# Prompt\n",
        "prompt_text = \"\"\"\n",
        "You are an assistant tasked with summarizing tables and text particularly for semantic retrieval.\n",
        "Please perform concise summaries while extracting essential entities and\n",
        "relationships for relationships analysis later, please do include dates of actions or events,\n",
        "which are very important for timeline analysis later.\n",
        "Give a detailed summary of the table or text below that is well optimized for retrieval.\n",
        "For any tables also add in a one line description of what the table is about besides the summary.\n",
        "Do not add additional words like Summary: etc.\n",
        "\n",
        "Table or text chunk:\n",
        "{element}\n",
        "\"\"\"\n",
        "prompt = ChatPromptTemplate.from_template(prompt_text)\n",
        "\n",
        "# Summary chain\n",
        "summarize_chain = (\n",
        "                    {\"element\": RunnablePassthrough()}\n",
        "                      |\n",
        "                    prompt\n",
        "                      |\n",
        "                    chatgpt\n",
        "                      |\n",
        "                    StrOutputParser() # extracts the response as text and returns it as a string\n",
        ")\n",
        "\n",
        "# Initialize empty summaries\n",
        "text_summaries = []\n",
        "table_summaries = []\n",
        "\n",
        "text_docs = [doc.page_content for doc in docs]\n",
        "table_docs = [table.page_content for table in tables]\n",
        "\n",
        "text_summaries = summarize_chain.batch(text_docs, {\"max_concurrency\": 5})\n",
        "table_summaries = summarize_chain.batch(table_docs, {\"max_concurrency\": 5})\n",
        "\n",
        "len(text_summaries), len(table_summaries)"
      ]
    },
    {
      "cell_type": "code",
      "source": [
        "type(text_summaries)"
      ],
      "metadata": {
        "id": "HzIEvTx1ZIm4"
      },
      "id": "HzIEvTx1ZIm4",
      "execution_count": null,
      "outputs": []
    },
    {
      "cell_type": "code",
      "source": [
        "text_summaries[0]"
      ],
      "metadata": {
        "colab": {
          "base_uri": "https://localhost:8080/",
          "height": 160
        },
        "id": "fISIB_hvLOkv",
        "outputId": "d67b3f53-7def-467a-be7d-fa8f09d0544e"
      },
      "id": "fISIB_hvLOkv",
      "execution_count": 44,
      "outputs": [
        {
          "output_type": "execute_result",
          "data": {
            "text/plain": [
              "'The table is a submittal document related to the installation of fire and smoke dampers at the Carlos Bee Library, California State University, East Bay (CSUEB). The project is managed under CAE Job #201-20-0001 by the contractor Rudolph and Sletten, with Carrier Johnson + Culture as the architect and Integral Group as the engineer. The subcontractor is not specified. The specification section for the project is 233300, and the submittal includes product data and shop drawings. Smoke detectors are to be provided by Division 26. The submittal was issued on May 20, 2020, by Norman S. Wright Mechanical Equipment Corporation, located in Brisbane, CA.'"
            ],
            "application/vnd.google.colaboratory.intrinsic+json": {
              "type": "string"
            }
          },
          "metadata": {},
          "execution_count": 44
        }
      ]
    },
    {
      "cell_type": "code",
      "source": [
        "table_summaries[0]"
      ],
      "metadata": {
        "colab": {
          "base_uri": "https://localhost:8080/",
          "height": 71
        },
        "id": "pdQdx9VWI41P",
        "outputId": "76196abc-ce8f-4ada-e60b-a856432a8ffb"
      },
      "id": "pdQdx9VWI41P",
      "execution_count": 45,
      "outputs": [
        {
          "output_type": "execute_result",
          "data": {
            "text/plain": [
              "\"The table provides information about a project located in Hayward, CA. The mechanical engineering firm involved is Integral Group, and the mechanical contractor is Control Air Enterprises. The document was prepared by Leao. The architect's information is not provided.\""
            ],
            "application/vnd.google.colaboratory.intrinsic+json": {
              "type": "string"
            }
          },
          "metadata": {},
          "execution_count": 45
        }
      ]
    },
    {
      "cell_type": "markdown",
      "id": "b1feadda-8171-4aed-9a60-320a88dc9ee1",
      "metadata": {
        "id": "b1feadda-8171-4aed-9a60-320a88dc9ee1"
      },
      "source": [
        "### Image summaries\n",
        "\n",
        "We will use [GPT-4o](https://openai.com/index/hello-gpt-4o/) to produce the image summaries.\n",
        "\n",
        "* We pass base64 encoded images"
      ]
    },
    {
      "cell_type": "code",
      "execution_count": 46,
      "id": "9e6b1d97-4245-45ac-95ba-9bc1cfd10182",
      "metadata": {
        "id": "9e6b1d97-4245-45ac-95ba-9bc1cfd10182"
      },
      "outputs": [],
      "source": [
        "import base64\n",
        "import os\n",
        "\n",
        "from langchain_core.messages import HumanMessage\n",
        "\n",
        "\n",
        "def encode_image(image_path):\n",
        "    \"\"\"Getting the base64 string\"\"\"\n",
        "    with open(image_path, \"rb\") as image_file:\n",
        "        return base64.b64encode(image_file.read()).decode(\"utf-8\")\n",
        "\n",
        "\n",
        "def image_summarize(img_base64, prompt):\n",
        "    \"\"\"Make image summary\"\"\"\n",
        "    chat = ChatOpenAI(model=\"gpt-4o\", temperature=0)\n",
        "\n",
        "    msg = chat.invoke(\n",
        "        [\n",
        "            HumanMessage(\n",
        "                content=[\n",
        "                    {\"type\": \"text\", \"text\": prompt},\n",
        "                    {\n",
        "                        \"type\": \"image_url\",\n",
        "                        \"image_url\": {\"url\": f\"data:image/jpeg;base64,{img_base64}\"},\n",
        "                    },\n",
        "                ]\n",
        "            )\n",
        "        ]\n",
        "    )\n",
        "    return msg.content\n",
        "\n",
        "\n",
        "def generate_img_summaries(path):\n",
        "    \"\"\"\n",
        "    Generate summaries and base64 encoded strings for images\n",
        "    path: Path to list of .jpg files extracted by Unstructured\n",
        "    \"\"\"\n",
        "\n",
        "    # Store base64 encoded images\n",
        "    img_base64_list = []\n",
        "\n",
        "    # Store image summaries\n",
        "    image_summaries = []\n",
        "\n",
        "    # Prompt\n",
        "    prompt = \"\"\"You are an assistant tasked with summarizing images for retrieval.\n",
        "                Remember these images could potentially contain graphs, charts or tables also.\n",
        "                please perform concise summaries while extracting essential entities and\n",
        "                relationships for relationships analysis later, please do include dates of actions or events,\n",
        "                which are very important for timeline analysis later.\n",
        "                Give a detailed summary of the image that is well optimized for retrieval.\n",
        "                Do not add additional words like Summary: etc.\n",
        "             \"\"\"\n",
        "\n",
        "    # Apply to images\n",
        "    for img_file in sorted(os.listdir(path)):\n",
        "        if img_file.endswith(\".jpg\"):\n",
        "            img_path = os.path.join(path, img_file)\n",
        "            base64_image = encode_image(img_path)\n",
        "            img_base64_list.append(base64_image)\n",
        "            image_summaries.append(image_summarize(base64_image, prompt))\n",
        "\n",
        "    return img_base64_list, image_summaries\n",
        "\n",
        "\n",
        "# Image summaries\n",
        "IMG_PATH = './figures'\n",
        "imgs_base64, image_summaries = generate_img_summaries(IMG_PATH)"
      ]
    },
    {
      "cell_type": "code",
      "source": [
        "len(imgs_base64), len(image_summaries)"
      ],
      "metadata": {
        "colab": {
          "base_uri": "https://localhost:8080/"
        },
        "id": "YQxeFvInNK5e",
        "outputId": "ae2d5bef-d23c-437e-8e5e-44eb2635f8c8"
      },
      "id": "YQxeFvInNK5e",
      "execution_count": 37,
      "outputs": [
        {
          "output_type": "execute_result",
          "data": {
            "text/plain": [
              "(35, 35)"
            ]
          },
          "metadata": {},
          "execution_count": 37
        }
      ]
    },
    {
      "cell_type": "code",
      "source": [
        "display(Image('./figures/figure-11-27.jpg'))"
      ],
      "metadata": {
        "colab": {
          "base_uri": "https://localhost:8080/",
          "height": 118
        },
        "id": "8x17JWmWNOel",
        "outputId": "891df5f4-0552-4757-992e-43b2ad2ddfe8"
      },
      "id": "8x17JWmWNOel",
      "execution_count": 40,
      "outputs": [
        {
          "output_type": "display_data",
          "data": {
            "image/jpeg": "[encoded data removed]",
            "text/plain": [
              "<IPython.core.display.Image object>"
            ]
          },
          "metadata": {}
        }
      ]
    },
    {
      "cell_type": "code",
      "source": [
        "image_summaries[1]"
      ],
      "metadata": {
        "colab": {
          "base_uri": "https://localhost:8080/",
          "height": 71
        },
        "id": "UdTfHKRMNbv4",
        "outputId": "66d084cd-d4be-4340-a82d-9149c7fae861"
      },
      "id": "UdTfHKRMNbv4",
      "execution_count": 38,
      "outputs": [
        {
          "output_type": "execute_result",
          "data": {
            "text/plain": [
              "'The image displays the logo of the company \"RUSKIN\" in bold, black capital letters. The font is sans-serif, and there is a registered trademark symbol (®) positioned at the top right corner of the logo. The background is plain white, emphasizing the text.'"
            ],
            "application/vnd.google.colaboratory.intrinsic+json": {
              "type": "string"
            }
          },
          "metadata": {},
          "execution_count": 38
        }
      ]
    },
    {
      "cell_type": "code",
      "source": [
        "all_list=[text_summaries,table_summaries,image_summaries]"
      ],
      "metadata": {
        "id": "Ah9iHNmebuIw"
      },
      "id": "Ah9iHNmebuIw",
      "execution_count": 47,
      "outputs": []
    },
    {
      "cell_type": "code",
      "source": [
        "with open('combined_text.txt', 'w') as file:\n",
        "    for lst in all_list:\n",
        "        for line in lst:\n",
        "            file.write(line + '\\n')"
      ],
      "metadata": {
        "id": "41uAncWmbt5r"
      },
      "id": "41uAncWmbt5r",
      "execution_count": 48,
      "outputs": []
    },
    {
      "cell_type": "code",
      "source": [],
      "metadata": {
        "id": "r2QM1FpRVeG1"
      },
      "id": "r2QM1FpRVeG1",
      "execution_count": null,
      "outputs": []
    }
  ],
  "metadata": {
    "kernelspec": {
      "display_name": "Python 3",
      "name": "python3"
    },
    "language_info": {
      "codemirror_mode": {
        "name": "ipython",
        "version": 3
      },
      "file_extension": ".py",
      "mimetype": "text/x-python",
      "name": "python",
      "nbconvert_exporter": "python",
      "pygments_lexer": "ipython3",
      "version": "3.9.16"
    },
    "colab": {
      "provenance": [],
      "gpuType": "T4",
      "include_colab_link": true
    },
    "accelerator": "GPU",
    "widgets": {
      "application/vnd.jupyter.widget-state+json": {
        "b4a4871570304fa396468e2d91943520": {
          "model_module": "@jupyter-widgets/controls",
          "model_name": "HBoxModel",
          "model_module_version": "1.5.0",
          "state": {
            "_dom_classes": [],
            "_model_module": "@jupyter-widgets/controls",
            "_model_module_version": "1.5.0",
            "_model_name": "HBoxModel",
            "_view_count": null,
            "_view_module": "@jupyter-widgets/controls",
            "_view_module_version": "1.5.0",
            "_view_name": "HBoxView",
            "box_style": "",
            "children": [
              "IPY_MODEL_4ec997b84a324d18b199a924398b61db",
              "IPY_MODEL_598c5ba29e6a4031a25a3355f3a1bc0c",
              "IPY_MODEL_829e33e04a0e407f8bdf756261b98a25"
            ],
            "layout": "IPY_MODEL_27b9d6cef7104b2785c709331cafa491"
          }
        },
        "4ec997b84a324d18b199a924398b61db": {
          "model_module": "@jupyter-widgets/controls",
          "model_name": "HTMLModel",
          "model_module_version": "1.5.0",
          "state": {
            "_dom_classes": [],
            "_model_module": "@jupyter-widgets/controls",
            "_model_module_version": "1.5.0",
            "_model_name": "HTMLModel",
            "_view_count": null,
            "_view_module": "@jupyter-widgets/controls",
            "_view_module_version": "1.5.0",
            "_view_name": "HTMLView",
            "description": "",
            "description_tooltip": null,
            "layout": "IPY_MODEL_8b83fb0a3bf04acf82d5e39b2e8ad853",
            "placeholder": "​",
            "style": "IPY_MODEL_b658b30d2744431f9aa433c8ca9fd1c0",
            "value": "yolox_l0.05.onnx: 100%"
          }
        },
        "598c5ba29e6a4031a25a3355f3a1bc0c": {
          "model_module": "@jupyter-widgets/controls",
          "model_name": "FloatProgressModel",
          "model_module_version": "1.5.0",
          "state": {
            "_dom_classes": [],
            "_model_module": "@jupyter-widgets/controls",
            "_model_module_version": "1.5.0",
            "_model_name": "FloatProgressModel",
            "_view_count": null,
            "_view_module": "@jupyter-widgets/controls",
            "_view_module_version": "1.5.0",
            "_view_name": "ProgressView",
            "bar_style": "success",
            "description": "",
            "description_tooltip": null,
            "layout": "IPY_MODEL_a5e3c34313904fc8ba153ab35ba48195",
            "max": 216625723,
            "min": 0,
            "orientation": "horizontal",
            "style": "IPY_MODEL_33df6a597acd41af8e93e29998917e2a",
            "value": 216625723
          }
        },
        "829e33e04a0e407f8bdf756261b98a25": {
          "model_module": "@jupyter-widgets/controls",
          "model_name": "HTMLModel",
          "model_module_version": "1.5.0",
          "state": {
            "_dom_classes": [],
            "_model_module": "@jupyter-widgets/controls",
            "_model_module_version": "1.5.0",
            "_model_name": "HTMLModel",
            "_view_count": null,
            "_view_module": "@jupyter-widgets/controls",
            "_view_module_version": "1.5.0",
            "_view_name": "HTMLView",
            "description": "",
            "description_tooltip": null,
            "layout": "IPY_MODEL_bfec1b61471b4b719625fc953480bc94",
            "placeholder": "​",
            "style": "IPY_MODEL_7f9c4fb719064ee290c0c0e2fa52754c",
            "value": " 217M/217M [00:01&lt;00:00, 190MB/s]"
          }
        },
        "27b9d6cef7104b2785c709331cafa491": {
          "model_module": "@jupyter-widgets/base",
          "model_name": "LayoutModel",
          "model_module_version": "1.2.0",
          "state": {
            "_model_module": "@jupyter-widgets/base",
            "_model_module_version": "1.2.0",
            "_model_name": "LayoutModel",
            "_view_count": null,
            "_view_module": "@jupyter-widgets/base",
            "_view_module_version": "1.2.0",
            "_view_name": "LayoutView",
            "align_content": null,
            "align_items": null,
            "align_self": null,
            "border": null,
            "bottom": null,
            "display": null,
            "flex": null,
            "flex_flow": null,
            "grid_area": null,
            "grid_auto_columns": null,
            "grid_auto_flow": null,
            "grid_auto_rows": null,
            "grid_column": null,
            "grid_gap": null,
            "grid_row": null,
            "grid_template_areas": null,
            "grid_template_columns": null,
            "grid_template_rows": null,
            "height": null,
            "justify_content": null,
            "justify_items": null,
            "left": null,
            "margin": null,
            "max_height": null,
            "max_width": null,
            "min_height": null,
            "min_width": null,
            "object_fit": null,
            "object_position": null,
            "order": null,
            "overflow": null,
            "overflow_x": null,
            "overflow_y": null,
            "padding": null,
            "right": null,
            "top": null,
            "visibility": null,
            "width": null
          }
        },
        "8b83fb0a3bf04acf82d5e39b2e8ad853": {
          "model_module": "@jupyter-widgets/base",
          "model_name": "LayoutModel",
          "model_module_version": "1.2.0",
          "state": {
            "_model_module": "@jupyter-widgets/base",
            "_model_module_version": "1.2.0",
            "_model_name": "LayoutModel",
            "_view_count": null,
            "_view_module": "@jupyter-widgets/base",
            "_view_module_version": "1.2.0",
            "_view_name": "LayoutView",
            "align_content": null,
            "align_items": null,
            "align_self": null,
            "border": null,
            "bottom": null,
            "display": null,
            "flex": null,
            "flex_flow": null,
            "grid_area": null,
            "grid_auto_columns": null,
            "grid_auto_flow": null,
            "grid_auto_rows": null,
            "grid_column": null,
            "grid_gap": null,
            "grid_row": null,
            "grid_template_areas": null,
            "grid_template_columns": null,
            "grid_template_rows": null,
            "height": null,
            "justify_content": null,
            "justify_items": null,
            "left": null,
            "margin": null,
            "max_height": null,
            "max_width": null,
            "min_height": null,
            "min_width": null,
            "object_fit": null,
            "object_position": null,
            "order": null,
            "overflow": null,
            "overflow_x": null,
            "overflow_y": null,
            "padding": null,
            "right": null,
            "top": null,
            "visibility": null,
            "width": null
          }
        },
        "b658b30d2744431f9aa433c8ca9fd1c0": {
          "model_module": "@jupyter-widgets/controls",
          "model_name": "DescriptionStyleModel",
          "model_module_version": "1.5.0",
          "state": {
            "_model_module": "@jupyter-widgets/controls",
            "_model_module_version": "1.5.0",
            "_model_name": "DescriptionStyleModel",
            "_view_count": null,
            "_view_module": "@jupyter-widgets/base",
            "_view_module_version": "1.2.0",
            "_view_name": "StyleView",
            "description_width": ""
          }
        },
        "a5e3c34313904fc8ba153ab35ba48195": {
          "model_module": "@jupyter-widgets/base",
          "model_name": "LayoutModel",
          "model_module_version": "1.2.0",
          "state": {
            "_model_module": "@jupyter-widgets/base",
            "_model_module_version": "1.2.0",
            "_model_name": "LayoutModel",
            "_view_count": null,
            "_view_module": "@jupyter-widgets/base",
            "_view_module_version": "1.2.0",
            "_view_name": "LayoutView",
            "align_content": null,
            "align_items": null,
            "align_self": null,
            "border": null,
            "bottom": null,
            "display": null,
            "flex": null,
            "flex_flow": null,
            "grid_area": null,
            "grid_auto_columns": null,
            "grid_auto_flow": null,
            "grid_auto_rows": null,
            "grid_column": null,
            "grid_gap": null,
            "grid_row": null,
            "grid_template_areas": null,
            "grid_template_columns": null,
            "grid_template_rows": null,
            "height": null,
            "justify_content": null,
            "justify_items": null,
            "left": null,
            "margin": null,
            "max_height": null,
            "max_width": null,
            "min_height": null,
            "min_width": null,
            "object_fit": null,
            "object_position": null,
            "order": null,
            "overflow": null,
            "overflow_x": null,
            "overflow_y": null,
            "padding": null,
            "right": null,
            "top": null,
            "visibility": null,
            "width": null
          }
        },
        "33df6a597acd41af8e93e29998917e2a": {
          "model_module": "@jupyter-widgets/controls",
          "model_name": "ProgressStyleModel",
          "model_module_version": "1.5.0",
          "state": {
            "_model_module": "@jupyter-widgets/controls",
            "_model_module_version": "1.5.0",
            "_model_name": "ProgressStyleModel",
            "_view_count": null,
            "_view_module": "@jupyter-widgets/base",
            "_view_module_version": "1.2.0",
            "_view_name": "StyleView",
            "bar_color": null,
            "description_width": ""
          }
        },
        "bfec1b61471b4b719625fc953480bc94": {
          "model_module": "@jupyter-widgets/base",
          "model_name": "LayoutModel",
          "model_module_version": "1.2.0",
          "state": {
            "_model_module": "@jupyter-widgets/base",
            "_model_module_version": "1.2.0",
            "_model_name": "LayoutModel",
            "_view_count": null,
            "_view_module": "@jupyter-widgets/base",
            "_view_module_version": "1.2.0",
            "_view_name": "LayoutView",
            "align_content": null,
            "align_items": null,
            "align_self": null,
            "border": null,
            "bottom": null,
            "display": null,
            "flex": null,
            "flex_flow": null,
            "grid_area": null,
            "grid_auto_columns": null,
            "grid_auto_flow": null,
            "grid_auto_rows": null,
            "grid_column": null,
            "grid_gap": null,
            "grid_row": null,
            "grid_template_areas": null,
            "grid_template_columns": null,
            "grid_template_rows": null,
            "height": null,
            "justify_content": null,
            "justify_items": null,
            "left": null,
            "margin": null,
            "max_height": null,
            "max_width": null,
            "min_height": null,
            "min_width": null,
            "object_fit": null,
            "object_position": null,
            "order": null,
            "overflow": null,
            "overflow_x": null,
            "overflow_y": null,
            "padding": null,
            "right": null,
            "top": null,
            "visibility": null,
            "width": null
          }
        },
        "7f9c4fb719064ee290c0c0e2fa52754c": {
          "model_module": "@jupyter-widgets/controls",
          "model_name": "DescriptionStyleModel",
          "model_module_version": "1.5.0",
          "state": {
            "_model_module": "@jupyter-widgets/controls",
            "_model_module_version": "1.5.0",
            "_model_name": "DescriptionStyleModel",
            "_view_count": null,
            "_view_module": "@jupyter-widgets/base",
            "_view_module_version": "1.2.0",
            "_view_name": "StyleView",
            "description_width": ""
          }
        },
        "afe0853c4c404dbdb64118bd0114c455": {
          "model_module": "@jupyter-widgets/controls",
          "model_name": "HBoxModel",
          "model_module_version": "1.5.0",
          "state": {
            "_dom_classes": [],
            "_model_module": "@jupyter-widgets/controls",
            "_model_module_version": "1.5.0",
            "_model_name": "HBoxModel",
            "_view_count": null,
            "_view_module": "@jupyter-widgets/controls",
            "_view_module_version": "1.5.0",
            "_view_name": "HBoxView",
            "box_style": "",
            "children": [
              "IPY_MODEL_0ff085d85e094fbcaff6f5a2eb0c40fc",
              "IPY_MODEL_bbef12f7375849ad85ef6620c2cc7567",
              "IPY_MODEL_e274c1fddf954e3db505a79598b63fa0"
            ],
            "layout": "IPY_MODEL_3d15e23d393d4006b4208dbf06b3ea35"
          }
        },
        "0ff085d85e094fbcaff6f5a2eb0c40fc": {
          "model_module": "@jupyter-widgets/controls",
          "model_name": "HTMLModel",
          "model_module_version": "1.5.0",
          "state": {
            "_dom_classes": [],
            "_model_module": "@jupyter-widgets/controls",
            "_model_module_version": "1.5.0",
            "_model_name": "HTMLModel",
            "_view_count": null,
            "_view_module": "@jupyter-widgets/controls",
            "_view_module_version": "1.5.0",
            "_view_name": "HTMLView",
            "description": "",
            "description_tooltip": null,
            "layout": "IPY_MODEL_6cb0f4b7126a4a35b5e7b05e4125c2f1",
            "placeholder": "​",
            "style": "IPY_MODEL_b1313be7af90474c9a5b128be6791246",
            "value": ""
          }
        },
        "bbef12f7375849ad85ef6620c2cc7567": {
          "model_module": "@jupyter-widgets/controls",
          "model_name": "FloatProgressModel",
          "model_module_version": "1.5.0",
          "state": {
            "_dom_classes": [],
            "_model_module": "@jupyter-widgets/controls",
            "_model_module_version": "1.5.0",
            "_model_name": "FloatProgressModel",
            "_view_count": null,
            "_view_module": "@jupyter-widgets/controls",
            "_view_module_version": "1.5.0",
            "_view_name": "ProgressView",
            "bar_style": "success",
            "description": "",
            "description_tooltip": null,
            "layout": "IPY_MODEL_613c3ee2cf9b453c93ae662c16d416b5",
            "max": 1,
            "min": 0,
            "orientation": "horizontal",
            "style": "IPY_MODEL_c06fb9ce44334f97a4f6a8fd28b2ec3b",
            "value": 0
          }
        },
        "e274c1fddf954e3db505a79598b63fa0": {
          "model_module": "@jupyter-widgets/controls",
          "model_name": "HTMLModel",
          "model_module_version": "1.5.0",
          "state": {
            "_dom_classes": [],
            "_model_module": "@jupyter-widgets/controls",
            "_model_module_version": "1.5.0",
            "_model_name": "HTMLModel",
            "_view_count": null,
            "_view_module": "@jupyter-widgets/controls",
            "_view_module_version": "1.5.0",
            "_view_name": "HTMLView",
            "description": "",
            "description_tooltip": null,
            "layout": "IPY_MODEL_8ca9c4e654a4455dba0d3cb8011e27fe",
            "placeholder": "​",
            "style": "IPY_MODEL_2328f6003c3149b695a4bb0ff235dac7",
            "value": " 0/0 [00:00&lt;?, ?it/s]"
          }
        },
        "3d15e23d393d4006b4208dbf06b3ea35": {
          "model_module": "@jupyter-widgets/base",
          "model_name": "LayoutModel",
          "model_module_version": "1.2.0",
          "state": {
            "_model_module": "@jupyter-widgets/base",
            "_model_module_version": "1.2.0",
            "_model_name": "LayoutModel",
            "_view_count": null,
            "_view_module": "@jupyter-widgets/base",
            "_view_module_version": "1.2.0",
            "_view_name": "LayoutView",
            "align_content": null,
            "align_items": null,
            "align_self": null,
            "border": null,
            "bottom": null,
            "display": null,
            "flex": null,
            "flex_flow": null,
            "grid_area": null,
            "grid_auto_columns": null,
            "grid_auto_flow": null,
            "grid_auto_rows": null,
            "grid_column": null,
            "grid_gap": null,
            "grid_row": null,
            "grid_template_areas": null,
            "grid_template_columns": null,
            "grid_template_rows": null,
            "height": null,
            "justify_content": null,
            "justify_items": null,
            "left": null,
            "margin": null,
            "max_height": null,
            "max_width": null,
            "min_height": null,
            "min_width": null,
            "object_fit": null,
            "object_position": null,
            "order": null,
            "overflow": null,
            "overflow_x": null,
            "overflow_y": null,
            "padding": null,
            "right": null,
            "top": null,
            "visibility": null,
            "width": null
          }
        },
        "6cb0f4b7126a4a35b5e7b05e4125c2f1": {
          "model_module": "@jupyter-widgets/base",
          "model_name": "LayoutModel",
          "model_module_version": "1.2.0",
          "state": {
            "_model_module": "@jupyter-widgets/base",
            "_model_module_version": "1.2.0",
            "_model_name": "LayoutModel",
            "_view_count": null,
            "_view_module": "@jupyter-widgets/base",
            "_view_module_version": "1.2.0",
            "_view_name": "LayoutView",
            "align_content": null,
            "align_items": null,
            "align_self": null,
            "border": null,
            "bottom": null,
            "display": null,
            "flex": null,
            "flex_flow": null,
            "grid_area": null,
            "grid_auto_columns": null,
            "grid_auto_flow": null,
            "grid_auto_rows": null,
            "grid_column": null,
            "grid_gap": null,
            "grid_row": null,
            "grid_template_areas": null,
            "grid_template_columns": null,
            "grid_template_rows": null,
            "height": null,
            "justify_content": null,
            "justify_items": null,
            "left": null,
            "margin": null,
            "max_height": null,
            "max_width": null,
            "min_height": null,
            "min_width": null,
            "object_fit": null,
            "object_position": null,
            "order": null,
            "overflow": null,
            "overflow_x": null,
            "overflow_y": null,
            "padding": null,
            "right": null,
            "top": null,
            "visibility": null,
            "width": null
          }
        },
        "b1313be7af90474c9a5b128be6791246": {
          "model_module": "@jupyter-widgets/controls",
          "model_name": "DescriptionStyleModel",
          "model_module_version": "1.5.0",
          "state": {
            "_model_module": "@jupyter-widgets/controls",
            "_model_module_version": "1.5.0",
            "_model_name": "DescriptionStyleModel",
            "_view_count": null,
            "_view_module": "@jupyter-widgets/base",
            "_view_module_version": "1.2.0",
            "_view_name": "StyleView",
            "description_width": ""
          }
        },
        "613c3ee2cf9b453c93ae662c16d416b5": {
          "model_module": "@jupyter-widgets/base",
          "model_name": "LayoutModel",
          "model_module_version": "1.2.0",
          "state": {
            "_model_module": "@jupyter-widgets/base",
            "_model_module_version": "1.2.0",
            "_model_name": "LayoutModel",
            "_view_count": null,
            "_view_module": "@jupyter-widgets/base",
            "_view_module_version": "1.2.0",
            "_view_name": "LayoutView",
            "align_content": null,
            "align_items": null,
            "align_self": null,
            "border": null,
            "bottom": null,
            "display": null,
            "flex": null,
            "flex_flow": null,
            "grid_area": null,
            "grid_auto_columns": null,
            "grid_auto_flow": null,
            "grid_auto_rows": null,
            "grid_column": null,
            "grid_gap": null,
            "grid_row": null,
            "grid_template_areas": null,
            "grid_template_columns": null,
            "grid_template_rows": null,
            "height": null,
            "justify_content": null,
            "justify_items": null,
            "left": null,
            "margin": null,
            "max_height": null,
            "max_width": null,
            "min_height": null,
            "min_width": null,
            "object_fit": null,
            "object_position": null,
            "order": null,
            "overflow": null,
            "overflow_x": null,
            "overflow_y": null,
            "padding": null,
            "right": null,
            "top": null,
            "visibility": null,
            "width": "20px"
          }
        },
        "c06fb9ce44334f97a4f6a8fd28b2ec3b": {
          "model_module": "@jupyter-widgets/controls",
          "model_name": "ProgressStyleModel",
          "model_module_version": "1.5.0",
          "state": {
            "_model_module": "@jupyter-widgets/controls",
            "_model_module_version": "1.5.0",
            "_model_name": "ProgressStyleModel",
            "_view_count": null,
            "_view_module": "@jupyter-widgets/base",
            "_view_module_version": "1.2.0",
            "_view_name": "StyleView",
            "bar_color": null,
            "description_width": ""
          }
        },
        "8ca9c4e654a4455dba0d3cb8011e27fe": {
          "model_module": "@jupyter-widgets/base",
          "model_name": "LayoutModel",
          "model_module_version": "1.2.0",
          "state": {
            "_model_module": "@jupyter-widgets/base",
            "_model_module_version": "1.2.0",
            "_model_name": "LayoutModel",
            "_view_count": null,
            "_view_module": "@jupyter-widgets/base",
            "_view_module_version": "1.2.0",
            "_view_name": "LayoutView",
            "align_content": null,
            "align_items": null,
            "align_self": null,
            "border": null,
            "bottom": null,
            "display": null,
            "flex": null,
            "flex_flow": null,
            "grid_area": null,
            "grid_auto_columns": null,
            "grid_auto_flow": null,
            "grid_auto_rows": null,
            "grid_column": null,
            "grid_gap": null,
            "grid_row": null,
            "grid_template_areas": null,
            "grid_template_columns": null,
            "grid_template_rows": null,
            "height": null,
            "justify_content": null,
            "justify_items": null,
            "left": null,
            "margin": null,
            "max_height": null,
            "max_width": null,
            "min_height": null,
            "min_width": null,
            "object_fit": null,
            "object_position": null,
            "order": null,
            "overflow": null,
            "overflow_x": null,
            "overflow_y": null,
            "padding": null,
            "right": null,
            "top": null,
            "visibility": null,
            "width": null
          }
        },
        "2328f6003c3149b695a4bb0ff235dac7": {
          "model_module": "@jupyter-widgets/controls",
          "model_name": "DescriptionStyleModel",
          "model_module_version": "1.5.0",
          "state": {
            "_model_module": "@jupyter-widgets/controls",
            "_model_module_version": "1.5.0",
            "_model_name": "DescriptionStyleModel",
            "_view_count": null,
            "_view_module": "@jupyter-widgets/base",
            "_view_module_version": "1.2.0",
            "_view_name": "StyleView",
            "description_width": ""
          }
        },
        "ad5472f0e74c4e4398383fa0d29e19e8": {
          "model_module": "@jupyter-widgets/controls",
          "model_name": "HBoxModel",
          "model_module_version": "1.5.0",
          "state": {
            "_dom_classes": [],
            "_model_module": "@jupyter-widgets/controls",
            "_model_module_version": "1.5.0",
            "_model_name": "HBoxModel",
            "_view_count": null,
            "_view_module": "@jupyter-widgets/controls",
            "_view_module_version": "1.5.0",
            "_view_name": "HBoxView",
            "box_style": "",
            "children": [
              "IPY_MODEL_350d4f577f3f45b5b941e9e95eacd5dc",
              "IPY_MODEL_ea0b3933dc19407cb9168500ba46a38f",
              "IPY_MODEL_ff0c2dbfd8f04020b1197de7a8ee6ceb"
            ],
            "layout": "IPY_MODEL_8de04b53c01d40ac87e5cd993d31cb44"
          }
        },
        "350d4f577f3f45b5b941e9e95eacd5dc": {
          "model_module": "@jupyter-widgets/controls",
          "model_name": "HTMLModel",
          "model_module_version": "1.5.0",
          "state": {
            "_dom_classes": [],
            "_model_module": "@jupyter-widgets/controls",
            "_model_module_version": "1.5.0",
            "_model_name": "HTMLModel",
            "_view_count": null,
            "_view_module": "@jupyter-widgets/controls",
            "_view_module_version": "1.5.0",
            "_view_name": "HTMLView",
            "description": "",
            "description_tooltip": null,
            "layout": "IPY_MODEL_ffe9d81a873d447c871830f2bde0a0b3",
            "placeholder": "​",
            "style": "IPY_MODEL_520edad7f92647eab9b24797920e29da",
            "value": "config.json: 100%"
          }
        },
        "ea0b3933dc19407cb9168500ba46a38f": {
          "model_module": "@jupyter-widgets/controls",
          "model_name": "FloatProgressModel",
          "model_module_version": "1.5.0",
          "state": {
            "_dom_classes": [],
            "_model_module": "@jupyter-widgets/controls",
            "_model_module_version": "1.5.0",
            "_model_name": "FloatProgressModel",
            "_view_count": null,
            "_view_module": "@jupyter-widgets/controls",
            "_view_module_version": "1.5.0",
            "_view_name": "ProgressView",
            "bar_style": "success",
            "description": "",
            "description_tooltip": null,
            "layout": "IPY_MODEL_b08caea761434e26a18e10d2a56c0095",
            "max": 1469,
            "min": 0,
            "orientation": "horizontal",
            "style": "IPY_MODEL_0eeae02c99684235b46e4381a7dea287",
            "value": 1469
          }
        },
        "ff0c2dbfd8f04020b1197de7a8ee6ceb": {
          "model_module": "@jupyter-widgets/controls",
          "model_name": "HTMLModel",
          "model_module_version": "1.5.0",
          "state": {
            "_dom_classes": [],
            "_model_module": "@jupyter-widgets/controls",
            "_model_module_version": "1.5.0",
            "_model_name": "HTMLModel",
            "_view_count": null,
            "_view_module": "@jupyter-widgets/controls",
            "_view_module_version": "1.5.0",
            "_view_name": "HTMLView",
            "description": "",
            "description_tooltip": null,
            "layout": "IPY_MODEL_c0d04f8bd9d24d9794fe42b51ca0becf",
            "placeholder": "​",
            "style": "IPY_MODEL_acb7aa0b72dd4a0d951a254a99d3b843",
            "value": " 1.47k/1.47k [00:00&lt;00:00, 86.9kB/s]"
          }
        },
        "8de04b53c01d40ac87e5cd993d31cb44": {
          "model_module": "@jupyter-widgets/base",
          "model_name": "LayoutModel",
          "model_module_version": "1.2.0",
          "state": {
            "_model_module": "@jupyter-widgets/base",
            "_model_module_version": "1.2.0",
            "_model_name": "LayoutModel",
            "_view_count": null,
            "_view_module": "@jupyter-widgets/base",
            "_view_module_version": "1.2.0",
            "_view_name": "LayoutView",
            "align_content": null,
            "align_items": null,
            "align_self": null,
            "border": null,
            "bottom": null,
            "display": null,
            "flex": null,
            "flex_flow": null,
            "grid_area": null,
            "grid_auto_columns": null,
            "grid_auto_flow": null,
            "grid_auto_rows": null,
            "grid_column": null,
            "grid_gap": null,
            "grid_row": null,
            "grid_template_areas": null,
            "grid_template_columns": null,
            "grid_template_rows": null,
            "height": null,
            "justify_content": null,
            "justify_items": null,
            "left": null,
            "margin": null,
            "max_height": null,
            "max_width": null,
            "min_height": null,
            "min_width": null,
            "object_fit": null,
            "object_position": null,
            "order": null,
            "overflow": null,
            "overflow_x": null,
            "overflow_y": null,
            "padding": null,
            "right": null,
            "top": null,
            "visibility": null,
            "width": null
          }
        },
        "ffe9d81a873d447c871830f2bde0a0b3": {
          "model_module": "@jupyter-widgets/base",
          "model_name": "LayoutModel",
          "model_module_version": "1.2.0",
          "state": {
            "_model_module": "@jupyter-widgets/base",
            "_model_module_version": "1.2.0",
            "_model_name": "LayoutModel",
            "_view_count": null,
            "_view_module": "@jupyter-widgets/base",
            "_view_module_version": "1.2.0",
            "_view_name": "LayoutView",
            "align_content": null,
            "align_items": null,
            "align_self": null,
            "border": null,
            "bottom": null,
            "display": null,
            "flex": null,
            "flex_flow": null,
            "grid_area": null,
            "grid_auto_columns": null,
            "grid_auto_flow": null,
            "grid_auto_rows": null,
            "grid_column": null,
            "grid_gap": null,
            "grid_row": null,
            "grid_template_areas": null,
            "grid_template_columns": null,
            "grid_template_rows": null,
            "height": null,
            "justify_content": null,
            "justify_items": null,
            "left": null,
            "margin": null,
            "max_height": null,
            "max_width": null,
            "min_height": null,
            "min_width": null,
            "object_fit": null,
            "object_position": null,
            "order": null,
            "overflow": null,
            "overflow_x": null,
            "overflow_y": null,
            "padding": null,
            "right": null,
            "top": null,
            "visibility": null,
            "width": null
          }
        },
        "520edad7f92647eab9b24797920e29da": {
          "model_module": "@jupyter-widgets/controls",
          "model_name": "DescriptionStyleModel",
          "model_module_version": "1.5.0",
          "state": {
            "_model_module": "@jupyter-widgets/controls",
            "_model_module_version": "1.5.0",
            "_model_name": "DescriptionStyleModel",
            "_view_count": null,
            "_view_module": "@jupyter-widgets/base",
            "_view_module_version": "1.2.0",
            "_view_name": "StyleView",
            "description_width": ""
          }
        },
        "b08caea761434e26a18e10d2a56c0095": {
          "model_module": "@jupyter-widgets/base",
          "model_name": "LayoutModel",
          "model_module_version": "1.2.0",
          "state": {
            "_model_module": "@jupyter-widgets/base",
            "_model_module_version": "1.2.0",
            "_model_name": "LayoutModel",
            "_view_count": null,
            "_view_module": "@jupyter-widgets/base",
            "_view_module_version": "1.2.0",
            "_view_name": "LayoutView",
            "align_content": null,
            "align_items": null,
            "align_self": null,
            "border": null,
            "bottom": null,
            "display": null,
            "flex": null,
            "flex_flow": null,
            "grid_area": null,
            "grid_auto_columns": null,
            "grid_auto_flow": null,
            "grid_auto_rows": null,
            "grid_column": null,
            "grid_gap": null,
            "grid_row": null,
            "grid_template_areas": null,
            "grid_template_columns": null,
            "grid_template_rows": null,
            "height": null,
            "justify_content": null,
            "justify_items": null,
            "left": null,
            "margin": null,
            "max_height": null,
            "max_width": null,
            "min_height": null,
            "min_width": null,
            "object_fit": null,
            "object_position": null,
            "order": null,
            "overflow": null,
            "overflow_x": null,
            "overflow_y": null,
            "padding": null,
            "right": null,
            "top": null,
            "visibility": null,
            "width": null
          }
        },
        "0eeae02c99684235b46e4381a7dea287": {
          "model_module": "@jupyter-widgets/controls",
          "model_name": "ProgressStyleModel",
          "model_module_version": "1.5.0",
          "state": {
            "_model_module": "@jupyter-widgets/controls",
            "_model_module_version": "1.5.0",
            "_model_name": "ProgressStyleModel",
            "_view_count": null,
            "_view_module": "@jupyter-widgets/base",
            "_view_module_version": "1.2.0",
            "_view_name": "StyleView",
            "bar_color": null,
            "description_width": ""
          }
        },
        "c0d04f8bd9d24d9794fe42b51ca0becf": {
          "model_module": "@jupyter-widgets/base",
          "model_name": "LayoutModel",
          "model_module_version": "1.2.0",
          "state": {
            "_model_module": "@jupyter-widgets/base",
            "_model_module_version": "1.2.0",
            "_model_name": "LayoutModel",
            "_view_count": null,
            "_view_module": "@jupyter-widgets/base",
            "_view_module_version": "1.2.0",
            "_view_name": "LayoutView",
            "align_content": null,
            "align_items": null,
            "align_self": null,
            "border": null,
            "bottom": null,
            "display": null,
            "flex": null,
            "flex_flow": null,
            "grid_area": null,
            "grid_auto_columns": null,
            "grid_auto_flow": null,
            "grid_auto_rows": null,
            "grid_column": null,
            "grid_gap": null,
            "grid_row": null,
            "grid_template_areas": null,
            "grid_template_columns": null,
            "grid_template_rows": null,
            "height": null,
            "justify_content": null,
            "justify_items": null,
            "left": null,
            "margin": null,
            "max_height": null,
            "max_width": null,
            "min_height": null,
            "min_width": null,
            "object_fit": null,
            "object_position": null,
            "order": null,
            "overflow": null,
            "overflow_x": null,
            "overflow_y": null,
            "padding": null,
            "right": null,
            "top": null,
            "visibility": null,
            "width": null
          }
        },
        "acb7aa0b72dd4a0d951a254a99d3b843": {
          "model_module": "@jupyter-widgets/controls",
          "model_name": "DescriptionStyleModel",
          "model_module_version": "1.5.0",
          "state": {
            "_model_module": "@jupyter-widgets/controls",
            "_model_module_version": "1.5.0",
            "_model_name": "DescriptionStyleModel",
            "_view_count": null,
            "_view_module": "@jupyter-widgets/base",
            "_view_module_version": "1.2.0",
            "_view_name": "StyleView",
            "description_width": ""
          }
        },
        "7a304d90b23c4d3b8921adcc034b09b7": {
          "model_module": "@jupyter-widgets/controls",
          "model_name": "HBoxModel",
          "model_module_version": "1.5.0",
          "state": {
            "_dom_classes": [],
            "_model_module": "@jupyter-widgets/controls",
            "_model_module_version": "1.5.0",
            "_model_name": "HBoxModel",
            "_view_count": null,
            "_view_module": "@jupyter-widgets/controls",
            "_view_module_version": "1.5.0",
            "_view_name": "HBoxView",
            "box_style": "",
            "children": [
              "IPY_MODEL_437052a5d98b415cb7c38c677f88ee7c",
              "IPY_MODEL_8d76c911a97f422295d9a409364fb6b3",
              "IPY_MODEL_eef2f7c71df04ce3a8850a038a08f6a2"
            ],
            "layout": "IPY_MODEL_2147063122694ae099c29af9d5c1c547"
          }
        },
        "437052a5d98b415cb7c38c677f88ee7c": {
          "model_module": "@jupyter-widgets/controls",
          "model_name": "HTMLModel",
          "model_module_version": "1.5.0",
          "state": {
            "_dom_classes": [],
            "_model_module": "@jupyter-widgets/controls",
            "_model_module_version": "1.5.0",
            "_model_name": "HTMLModel",
            "_view_count": null,
            "_view_module": "@jupyter-widgets/controls",
            "_view_module_version": "1.5.0",
            "_view_name": "HTMLView",
            "description": "",
            "description_tooltip": null,
            "layout": "IPY_MODEL_826ac2dfe8c04da7aa7952a44ae54e00",
            "placeholder": "​",
            "style": "IPY_MODEL_2564d637b66c4ca4b7eeae69a01c56ee",
            "value": "model.safetensors: 100%"
          }
        },
        "8d76c911a97f422295d9a409364fb6b3": {
          "model_module": "@jupyter-widgets/controls",
          "model_name": "FloatProgressModel",
          "model_module_version": "1.5.0",
          "state": {
            "_dom_classes": [],
            "_model_module": "@jupyter-widgets/controls",
            "_model_module_version": "1.5.0",
            "_model_name": "FloatProgressModel",
            "_view_count": null,
            "_view_module": "@jupyter-widgets/controls",
            "_view_module_version": "1.5.0",
            "_view_name": "ProgressView",
            "bar_style": "success",
            "description": "",
            "description_tooltip": null,
            "layout": "IPY_MODEL_8e790d8f259146ff9a18cc431de1431f",
            "max": 115434268,
            "min": 0,
            "orientation": "horizontal",
            "style": "IPY_MODEL_292ccc16ac5e4cfcad6219a471874329",
            "value": 115434268
          }
        },
        "eef2f7c71df04ce3a8850a038a08f6a2": {
          "model_module": "@jupyter-widgets/controls",
          "model_name": "HTMLModel",
          "model_module_version": "1.5.0",
          "state": {
            "_dom_classes": [],
            "_model_module": "@jupyter-widgets/controls",
            "_model_module_version": "1.5.0",
            "_model_name": "HTMLModel",
            "_view_count": null,
            "_view_module": "@jupyter-widgets/controls",
            "_view_module_version": "1.5.0",
            "_view_name": "HTMLView",
            "description": "",
            "description_tooltip": null,
            "layout": "IPY_MODEL_612362d81dd14cd28490de5322e95763",
            "placeholder": "​",
            "style": "IPY_MODEL_cba1fdb750fb4f4ab9c2178aa12d0bda",
            "value": " 115M/115M [00:00&lt;00:00, 241MB/s]"
          }
        },
        "2147063122694ae099c29af9d5c1c547": {
          "model_module": "@jupyter-widgets/base",
          "model_name": "LayoutModel",
          "model_module_version": "1.2.0",
          "state": {
            "_model_module": "@jupyter-widgets/base",
            "_model_module_version": "1.2.0",
            "_model_name": "LayoutModel",
            "_view_count": null,
            "_view_module": "@jupyter-widgets/base",
            "_view_module_version": "1.2.0",
            "_view_name": "LayoutView",
            "align_content": null,
            "align_items": null,
            "align_self": null,
            "border": null,
            "bottom": null,
            "display": null,
            "flex": null,
            "flex_flow": null,
            "grid_area": null,
            "grid_auto_columns": null,
            "grid_auto_flow": null,
            "grid_auto_rows": null,
            "grid_column": null,
            "grid_gap": null,
            "grid_row": null,
            "grid_template_areas": null,
            "grid_template_columns": null,
            "grid_template_rows": null,
            "height": null,
            "justify_content": null,
            "justify_items": null,
            "left": null,
            "margin": null,
            "max_height": null,
            "max_width": null,
            "min_height": null,
            "min_width": null,
            "object_fit": null,
            "object_position": null,
            "order": null,
            "overflow": null,
            "overflow_x": null,
            "overflow_y": null,
            "padding": null,
            "right": null,
            "top": null,
            "visibility": null,
            "width": null
          }
        },
        "826ac2dfe8c04da7aa7952a44ae54e00": {
          "model_module": "@jupyter-widgets/base",
          "model_name": "LayoutModel",
          "model_module_version": "1.2.0",
          "state": {
            "_model_module": "@jupyter-widgets/base",
            "_model_module_version": "1.2.0",
            "_model_name": "LayoutModel",
            "_view_count": null,
            "_view_module": "@jupyter-widgets/base",
            "_view_module_version": "1.2.0",
            "_view_name": "LayoutView",
            "align_content": null,
            "align_items": null,
            "align_self": null,
            "border": null,
            "bottom": null,
            "display": null,
            "flex": null,
            "flex_flow": null,
            "grid_area": null,
            "grid_auto_columns": null,
            "grid_auto_flow": null,
            "grid_auto_rows": null,
            "grid_column": null,
            "grid_gap": null,
            "grid_row": null,
            "grid_template_areas": null,
            "grid_template_columns": null,
            "grid_template_rows": null,
            "height": null,
            "justify_content": null,
            "justify_items": null,
            "left": null,
            "margin": null,
            "max_height": null,
            "max_width": null,
            "min_height": null,
            "min_width": null,
            "object_fit": null,
            "object_position": null,
            "order": null,
            "overflow": null,
            "overflow_x": null,
            "overflow_y": null,
            "padding": null,
            "right": null,
            "top": null,
            "visibility": null,
            "width": null
          }
        },
        "2564d637b66c4ca4b7eeae69a01c56ee": {
          "model_module": "@jupyter-widgets/controls",
          "model_name": "DescriptionStyleModel",
          "model_module_version": "1.5.0",
          "state": {
            "_model_module": "@jupyter-widgets/controls",
            "_model_module_version": "1.5.0",
            "_model_name": "DescriptionStyleModel",
            "_view_count": null,
            "_view_module": "@jupyter-widgets/base",
            "_view_module_version": "1.2.0",
            "_view_name": "StyleView",
            "description_width": ""
          }
        },
        "8e790d8f259146ff9a18cc431de1431f": {
          "model_module": "@jupyter-widgets/base",
          "model_name": "LayoutModel",
          "model_module_version": "1.2.0",
          "state": {
            "_model_module": "@jupyter-widgets/base",
            "_model_module_version": "1.2.0",
            "_model_name": "LayoutModel",
            "_view_count": null,
            "_view_module": "@jupyter-widgets/base",
            "_view_module_version": "1.2.0",
            "_view_name": "LayoutView",
            "align_content": null,
            "align_items": null,
            "align_self": null,
            "border": null,
            "bottom": null,
            "display": null,
            "flex": null,
            "flex_flow": null,
            "grid_area": null,
            "grid_auto_columns": null,
            "grid_auto_flow": null,
            "grid_auto_rows": null,
            "grid_column": null,
            "grid_gap": null,
            "grid_row": null,
            "grid_template_areas": null,
            "grid_template_columns": null,
            "grid_template_rows": null,
            "height": null,
            "justify_content": null,
            "justify_items": null,
            "left": null,
            "margin": null,
            "max_height": null,
            "max_width": null,
            "min_height": null,
            "min_width": null,
            "object_fit": null,
            "object_position": null,
            "order": null,
            "overflow": null,
            "overflow_x": null,
            "overflow_y": null,
            "padding": null,
            "right": null,
            "top": null,
            "visibility": null,
            "width": null
          }
        },
        "292ccc16ac5e4cfcad6219a471874329": {
          "model_module": "@jupyter-widgets/controls",
          "model_name": "ProgressStyleModel",
          "model_module_version": "1.5.0",
          "state": {
            "_model_module": "@jupyter-widgets/controls",
            "_model_module_version": "1.5.0",
            "_model_name": "ProgressStyleModel",
            "_view_count": null,
            "_view_module": "@jupyter-widgets/base",
            "_view_module_version": "1.2.0",
            "_view_name": "StyleView",
            "bar_color": null,
            "description_width": ""
          }
        },
        "612362d81dd14cd28490de5322e95763": {
          "model_module": "@jupyter-widgets/base",
          "model_name": "LayoutModel",
          "model_module_version": "1.2.0",
          "state": {
            "_model_module": "@jupyter-widgets/base",
            "_model_module_version": "1.2.0",
            "_model_name": "LayoutModel",
            "_view_count": null,
            "_view_module": "@jupyter-widgets/base",
            "_view_module_version": "1.2.0",
            "_view_name": "LayoutView",
            "align_content": null,
            "align_items": null,
            "align_self": null,
            "border": null,
            "bottom": null,
            "display": null,
            "flex": null,
            "flex_flow": null,
            "grid_area": null,
            "grid_auto_columns": null,
            "grid_auto_flow": null,
            "grid_auto_rows": null,
            "grid_column": null,
            "grid_gap": null,
            "grid_row": null,
            "grid_template_areas": null,
            "grid_template_columns": null,
            "grid_template_rows": null,
            "height": null,
            "justify_content": null,
            "justify_items": null,
            "left": null,
            "margin": null,
            "max_height": null,
            "max_width": null,
            "min_height": null,
            "min_width": null,
            "object_fit": null,
            "object_position": null,
            "order": null,
            "overflow": null,
            "overflow_x": null,
            "overflow_y": null,
            "padding": null,
            "right": null,
            "top": null,
            "visibility": null,
            "width": null
          }
        },
        "cba1fdb750fb4f4ab9c2178aa12d0bda": {
          "model_module": "@jupyter-widgets/controls",
          "model_name": "DescriptionStyleModel",
          "model_module_version": "1.5.0",
          "state": {
            "_model_module": "@jupyter-widgets/controls",
            "_model_module_version": "1.5.0",
            "_model_name": "DescriptionStyleModel",
            "_view_count": null,
            "_view_module": "@jupyter-widgets/base",
            "_view_module_version": "1.2.0",
            "_view_name": "StyleView",
            "description_width": ""
          }
        },
        "2534cfb6a09447859681704b58a10a13": {
          "model_module": "@jupyter-widgets/controls",
          "model_name": "HBoxModel",
          "model_module_version": "1.5.0",
          "state": {
            "_dom_classes": [],
            "_model_module": "@jupyter-widgets/controls",
            "_model_module_version": "1.5.0",
            "_model_name": "HBoxModel",
            "_view_count": null,
            "_view_module": "@jupyter-widgets/controls",
            "_view_module_version": "1.5.0",
            "_view_name": "HBoxView",
            "box_style": "",
            "children": [
              "IPY_MODEL_0b4472b5d86b418cbc1498c3b89c8556",
              "IPY_MODEL_07896c3c56a247d5923a1a79ceb0f4e9",
              "IPY_MODEL_6c46cd2fe6fe43f881552ccdc26c2732"
            ],
            "layout": "IPY_MODEL_b315e4d681de4d5a84f67f70281fc892"
          }
        },
        "0b4472b5d86b418cbc1498c3b89c8556": {
          "model_module": "@jupyter-widgets/controls",
          "model_name": "HTMLModel",
          "model_module_version": "1.5.0",
          "state": {
            "_dom_classes": [],
            "_model_module": "@jupyter-widgets/controls",
            "_model_module_version": "1.5.0",
            "_model_name": "HTMLModel",
            "_view_count": null,
            "_view_module": "@jupyter-widgets/controls",
            "_view_module_version": "1.5.0",
            "_view_name": "HTMLView",
            "description": "",
            "description_tooltip": null,
            "layout": "IPY_MODEL_8fcc46ca1e154e5a8181b0353cf4ba5f",
            "placeholder": "​",
            "style": "IPY_MODEL_211eab8d6f0446a0a0f32e49787802fe",
            "value": "model.safetensors: 100%"
          }
        },
        "07896c3c56a247d5923a1a79ceb0f4e9": {
          "model_module": "@jupyter-widgets/controls",
          "model_name": "FloatProgressModel",
          "model_module_version": "1.5.0",
          "state": {
            "_dom_classes": [],
            "_model_module": "@jupyter-widgets/controls",
            "_model_module_version": "1.5.0",
            "_model_name": "FloatProgressModel",
            "_view_count": null,
            "_view_module": "@jupyter-widgets/controls",
            "_view_module_version": "1.5.0",
            "_view_name": "ProgressView",
            "bar_style": "success",
            "description": "",
            "description_tooltip": null,
            "layout": "IPY_MODEL_ccef72b463d64a8f9f30b822d9e1131c",
            "max": 46807446,
            "min": 0,
            "orientation": "horizontal",
            "style": "IPY_MODEL_b6cda2a16c77436cb161c5791b6b17bd",
            "value": 46807446
          }
        },
        "6c46cd2fe6fe43f881552ccdc26c2732": {
          "model_module": "@jupyter-widgets/controls",
          "model_name": "HTMLModel",
          "model_module_version": "1.5.0",
          "state": {
            "_dom_classes": [],
            "_model_module": "@jupyter-widgets/controls",
            "_model_module_version": "1.5.0",
            "_model_name": "HTMLModel",
            "_view_count": null,
            "_view_module": "@jupyter-widgets/controls",
            "_view_module_version": "1.5.0",
            "_view_name": "HTMLView",
            "description": "",
            "description_tooltip": null,
            "layout": "IPY_MODEL_7dcb3807447a4186984402d3a3c2e807",
            "placeholder": "​",
            "style": "IPY_MODEL_5e5d0ae18ed440e091743a326117a408",
            "value": " 46.8M/46.8M [00:00&lt;00:00, 234MB/s]"
          }
        },
        "b315e4d681de4d5a84f67f70281fc892": {
          "model_module": "@jupyter-widgets/base",
          "model_name": "LayoutModel",
          "model_module_version": "1.2.0",
          "state": {
            "_model_module": "@jupyter-widgets/base",
            "_model_module_version": "1.2.0",
            "_model_name": "LayoutModel",
            "_view_count": null,
            "_view_module": "@jupyter-widgets/base",
            "_view_module_version": "1.2.0",
            "_view_name": "LayoutView",
            "align_content": null,
            "align_items": null,
            "align_self": null,
            "border": null,
            "bottom": null,
            "display": null,
            "flex": null,
            "flex_flow": null,
            "grid_area": null,
            "grid_auto_columns": null,
            "grid_auto_flow": null,
            "grid_auto_rows": null,
            "grid_column": null,
            "grid_gap": null,
            "grid_row": null,
            "grid_template_areas": null,
            "grid_template_columns": null,
            "grid_template_rows": null,
            "height": null,
            "justify_content": null,
            "justify_items": null,
            "left": null,
            "margin": null,
            "max_height": null,
            "max_width": null,
            "min_height": null,
            "min_width": null,
            "object_fit": null,
            "object_position": null,
            "order": null,
            "overflow": null,
            "overflow_x": null,
            "overflow_y": null,
            "padding": null,
            "right": null,
            "top": null,
            "visibility": null,
            "width": null
          }
        },
        "8fcc46ca1e154e5a8181b0353cf4ba5f": {
          "model_module": "@jupyter-widgets/base",
          "model_name": "LayoutModel",
          "model_module_version": "1.2.0",
          "state": {
            "_model_module": "@jupyter-widgets/base",
            "_model_module_version": "1.2.0",
            "_model_name": "LayoutModel",
            "_view_count": null,
            "_view_module": "@jupyter-widgets/base",
            "_view_module_version": "1.2.0",
            "_view_name": "LayoutView",
            "align_content": null,
            "align_items": null,
            "align_self": null,
            "border": null,
            "bottom": null,
            "display": null,
            "flex": null,
            "flex_flow": null,
            "grid_area": null,
            "grid_auto_columns": null,
            "grid_auto_flow": null,
            "grid_auto_rows": null,
            "grid_column": null,
            "grid_gap": null,
            "grid_row": null,
            "grid_template_areas": null,
            "grid_template_columns": null,
            "grid_template_rows": null,
            "height": null,
            "justify_content": null,
            "justify_items": null,
            "left": null,
            "margin": null,
            "max_height": null,
            "max_width": null,
            "min_height": null,
            "min_width": null,
            "object_fit": null,
            "object_position": null,
            "order": null,
            "overflow": null,
            "overflow_x": null,
            "overflow_y": null,
            "padding": null,
            "right": null,
            "top": null,
            "visibility": null,
            "width": null
          }
        },
        "211eab8d6f0446a0a0f32e49787802fe": {
          "model_module": "@jupyter-widgets/controls",
          "model_name": "DescriptionStyleModel",
          "model_module_version": "1.5.0",
          "state": {
            "_model_module": "@jupyter-widgets/controls",
            "_model_module_version": "1.5.0",
            "_model_name": "DescriptionStyleModel",
            "_view_count": null,
            "_view_module": "@jupyter-widgets/base",
            "_view_module_version": "1.2.0",
            "_view_name": "StyleView",
            "description_width": ""
          }
        },
        "ccef72b463d64a8f9f30b822d9e1131c": {
          "model_module": "@jupyter-widgets/base",
          "model_name": "LayoutModel",
          "model_module_version": "1.2.0",
          "state": {
            "_model_module": "@jupyter-widgets/base",
            "_model_module_version": "1.2.0",
            "_model_name": "LayoutModel",
            "_view_count": null,
            "_view_module": "@jupyter-widgets/base",
            "_view_module_version": "1.2.0",
            "_view_name": "LayoutView",
            "align_content": null,
            "align_items": null,
            "align_self": null,
            "border": null,
            "bottom": null,
            "display": null,
            "flex": null,
            "flex_flow": null,
            "grid_area": null,
            "grid_auto_columns": null,
            "grid_auto_flow": null,
            "grid_auto_rows": null,
            "grid_column": null,
            "grid_gap": null,
            "grid_row": null,
            "grid_template_areas": null,
            "grid_template_columns": null,
            "grid_template_rows": null,
            "height": null,
            "justify_content": null,
            "justify_items": null,
            "left": null,
            "margin": null,
            "max_height": null,
            "max_width": null,
            "min_height": null,
            "min_width": null,
            "object_fit": null,
            "object_position": null,
            "order": null,
            "overflow": null,
            "overflow_x": null,
            "overflow_y": null,
            "padding": null,
            "right": null,
            "top": null,
            "visibility": null,
            "width": null
          }
        },
        "b6cda2a16c77436cb161c5791b6b17bd": {
          "model_module": "@jupyter-widgets/controls",
          "model_name": "ProgressStyleModel",
          "model_module_version": "1.5.0",
          "state": {
            "_model_module": "@jupyter-widgets/controls",
            "_model_module_version": "1.5.0",
            "_model_name": "ProgressStyleModel",
            "_view_count": null,
            "_view_module": "@jupyter-widgets/base",
            "_view_module_version": "1.2.0",
            "_view_name": "StyleView",
            "bar_color": null,
            "description_width": ""
          }
        },
        "7dcb3807447a4186984402d3a3c2e807": {
          "model_module": "@jupyter-widgets/base",
          "model_name": "LayoutModel",
          "model_module_version": "1.2.0",
          "state": {
            "_model_module": "@jupyter-widgets/base",
            "_model_module_version": "1.2.0",
            "_model_name": "LayoutModel",
            "_view_count": null,
            "_view_module": "@jupyter-widgets/base",
            "_view_module_version": "1.2.0",
            "_view_name": "LayoutView",
            "align_content": null,
            "align_items": null,
            "align_self": null,
            "border": null,
            "bottom": null,
            "display": null,
            "flex": null,
            "flex_flow": null,
            "grid_area": null,
            "grid_auto_columns": null,
            "grid_auto_flow": null,
            "grid_auto_rows": null,
            "grid_column": null,
            "grid_gap": null,
            "grid_row": null,
            "grid_template_areas": null,
            "grid_template_columns": null,
            "grid_template_rows": null,
            "height": null,
            "justify_content": null,
            "justify_items": null,
            "left": null,
            "margin": null,
            "max_height": null,
            "max_width": null,
            "min_height": null,
            "min_width": null,
            "object_fit": null,
            "object_position": null,
            "order": null,
            "overflow": null,
            "overflow_x": null,
            "overflow_y": null,
            "padding": null,
            "right": null,
            "top": null,
            "visibility": null,
            "width": null
          }
        },
        "5e5d0ae18ed440e091743a326117a408": {
          "model_module": "@jupyter-widgets/controls",
          "model_name": "DescriptionStyleModel",
          "model_module_version": "1.5.0",
          "state": {
            "_model_module": "@jupyter-widgets/controls",
            "_model_module_version": "1.5.0",
            "_model_name": "DescriptionStyleModel",
            "_view_count": null,
            "_view_module": "@jupyter-widgets/base",
            "_view_module_version": "1.2.0",
            "_view_name": "StyleView",
            "description_width": ""
          }
        }
      }
    }
  },
  "nbformat": 4,
  "nbformat_minor": 5
}